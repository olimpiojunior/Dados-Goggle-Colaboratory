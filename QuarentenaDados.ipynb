{
  "nbformat": 4,
  "nbformat_minor": 0,
  "metadata": {
    "colab": {
      "name": "QuarentenaDados.ipynb",
      "provenance": [],
      "collapsed_sections": [],
      "authorship_tag": "ABX9TyMiFiyOf4XpKf8C02qf471x",
      "include_colab_link": true
    },
    "kernelspec": {
      "name": "python3",
      "display_name": "Python 3"
    }
  },
  "cells": [
    {
      "cell_type": "markdown",
      "metadata": {
        "id": "view-in-github",
        "colab_type": "text"
      },
      "source": [
        "<a href=\"https://colab.research.google.com/github/olimpiojunior/Dados-Goggle-Colaboratory/blob/master/QuarentenaDados.ipynb\" target=\"_parent\"><img src=\"https://colab.research.google.com/assets/colab-badge.svg\" alt=\"Open In Colab\"/></a>"
      ]
    },
    {
      "cell_type": "code",
      "metadata": {
        "id": "iCjQb5ULf1t0",
        "colab_type": "code",
        "outputId": "b1c13292-f043-4c7f-deee-be8d43bb2c40",
        "colab": {
          "base_uri": "https://localhost:8080/",
          "height": 34
        }
      },
      "source": [
        "print(\"Hello World\")"
      ],
      "execution_count": 0,
      "outputs": [
        {
          "output_type": "stream",
          "text": [
            "Hello World\n"
          ],
          "name": "stdout"
        }
      ]
    },
    {
      "cell_type": "markdown",
      "metadata": {
        "id": "rKtUJOSdmjU7",
        "colab_type": "text"
      },
      "source": [
        "#Iniciando estudos com Pandas\n",
        "Vamos aprender como extrair dados usando o Pandas"
      ]
    },
    {
      "cell_type": "code",
      "metadata": {
        "id": "uQnRo_U4f5-a",
        "colab_type": "code",
        "outputId": "f99bd48f-4190-445c-b8eb-37534d2a7445",
        "colab": {
          "base_uri": "https://localhost:8080/",
          "height": 71
        }
      },
      "source": [
        "import pandas as pd\n",
        "import matplotlib.pyplot as plt\n",
        "import seaborn as sns"
      ],
      "execution_count": 0,
      "outputs": [
        {
          "output_type": "stream",
          "text": [
            "/usr/local/lib/python3.6/dist-packages/statsmodels/tools/_testing.py:19: FutureWarning: pandas.util.testing is deprecated. Use the functions in the public API at pandas.testing instead.\n",
            "  import pandas.util.testing as tm\n"
          ],
          "name": "stderr"
        }
      ]
    },
    {
      "cell_type": "markdown",
      "metadata": {
        "id": "rXuHPNi4nCd3",
        "colab_type": "text"
      },
      "source": [
        "Nessa células pegamos o data frame direto de um diretório na web"
      ]
    },
    {
      "cell_type": "code",
      "metadata": {
        "id": "oFy-8B1whUMB",
        "colab_type": "code",
        "outputId": "e816cd09-1786-49a6-e349-1684e1f0ee00",
        "colab": {
          "base_uri": "https://localhost:8080/",
          "height": 204
        }
      },
      "source": [
        "filmes = pd.read_csv(\"https://raw.githubusercontent.com/alura-cursos/introducao-a-data-science/master/aula0/ml-latest-small/movies.csv\")\n",
        "filmes.columns = [\"filmeId\", \"titulo\", \"generos\"]\n",
        "filmes.head()"
      ],
      "execution_count": 0,
      "outputs": [
        {
          "output_type": "execute_result",
          "data": {
            "text/html": [
              "<div>\n",
              "<style scoped>\n",
              "    .dataframe tbody tr th:only-of-type {\n",
              "        vertical-align: middle;\n",
              "    }\n",
              "\n",
              "    .dataframe tbody tr th {\n",
              "        vertical-align: top;\n",
              "    }\n",
              "\n",
              "    .dataframe thead th {\n",
              "        text-align: right;\n",
              "    }\n",
              "</style>\n",
              "<table border=\"1\" class=\"dataframe\">\n",
              "  <thead>\n",
              "    <tr style=\"text-align: right;\">\n",
              "      <th></th>\n",
              "      <th>filmeId</th>\n",
              "      <th>titulo</th>\n",
              "      <th>generos</th>\n",
              "    </tr>\n",
              "  </thead>\n",
              "  <tbody>\n",
              "    <tr>\n",
              "      <th>0</th>\n",
              "      <td>1</td>\n",
              "      <td>Toy Story (1995)</td>\n",
              "      <td>Adventure|Animation|Children|Comedy|Fantasy</td>\n",
              "    </tr>\n",
              "    <tr>\n",
              "      <th>1</th>\n",
              "      <td>2</td>\n",
              "      <td>Jumanji (1995)</td>\n",
              "      <td>Adventure|Children|Fantasy</td>\n",
              "    </tr>\n",
              "    <tr>\n",
              "      <th>2</th>\n",
              "      <td>3</td>\n",
              "      <td>Grumpier Old Men (1995)</td>\n",
              "      <td>Comedy|Romance</td>\n",
              "    </tr>\n",
              "    <tr>\n",
              "      <th>3</th>\n",
              "      <td>4</td>\n",
              "      <td>Waiting to Exhale (1995)</td>\n",
              "      <td>Comedy|Drama|Romance</td>\n",
              "    </tr>\n",
              "    <tr>\n",
              "      <th>4</th>\n",
              "      <td>5</td>\n",
              "      <td>Father of the Bride Part II (1995)</td>\n",
              "      <td>Comedy</td>\n",
              "    </tr>\n",
              "  </tbody>\n",
              "</table>\n",
              "</div>"
            ],
            "text/plain": [
              "   filmeId  ...                                      generos\n",
              "0        1  ...  Adventure|Animation|Children|Comedy|Fantasy\n",
              "1        2  ...                   Adventure|Children|Fantasy\n",
              "2        3  ...                               Comedy|Romance\n",
              "3        4  ...                         Comedy|Drama|Romance\n",
              "4        5  ...                                       Comedy\n",
              "\n",
              "[5 rows x 3 columns]"
            ]
          },
          "metadata": {
            "tags": []
          },
          "execution_count": 175
        }
      ]
    },
    {
      "cell_type": "markdown",
      "metadata": {
        "id": "nWnheYsqm15n",
        "colab_type": "text"
      },
      "source": [
        "É possível obter um relatório de indormações sobre a variável utilizando o \"?\""
      ]
    },
    {
      "cell_type": "code",
      "metadata": {
        "id": "FqXu_sdKhj2H",
        "colab_type": "code",
        "colab": {}
      },
      "source": [
        "filmes?"
      ],
      "execution_count": 0,
      "outputs": []
    },
    {
      "cell_type": "code",
      "metadata": {
        "id": "6-5-Q2IPh3BR",
        "colab_type": "code",
        "outputId": "f989a656-51be-4b45-c1dd-bd7d1f18a338",
        "colab": {
          "base_uri": "https://localhost:8080/",
          "height": 34
        }
      },
      "source": [
        "avaliacoes = pd.read_csv(\"https://raw.githubusercontent.com/alura-cursos/introducao-a-data-science/master/aula0/ml-latest-small/ratings.csv\")\n",
        "avaliacoes.shape"
      ],
      "execution_count": 0,
      "outputs": [
        {
          "output_type": "execute_result",
          "data": {
            "text/plain": [
              "(100836, 4)"
            ]
          },
          "metadata": {
            "tags": []
          },
          "execution_count": 108
        }
      ]
    },
    {
      "cell_type": "code",
      "metadata": {
        "id": "id252GWIijm0",
        "colab_type": "code",
        "outputId": "ce8d3a0d-007a-4b58-b850-b77dea1a96ef",
        "colab": {
          "base_uri": "https://localhost:8080/",
          "height": 34
        }
      },
      "source": [
        "avaliacoes.columns"
      ],
      "execution_count": 0,
      "outputs": [
        {
          "output_type": "execute_result",
          "data": {
            "text/plain": [
              "Index(['userId', 'movieId', 'rating', 'timestamp'], dtype='object')"
            ]
          },
          "metadata": {
            "tags": []
          },
          "execution_count": 109
        }
      ]
    },
    {
      "cell_type": "markdown",
      "metadata": {
        "id": "5ivOcGcqnWbZ",
        "colab_type": "text"
      },
      "source": [
        "Mudando os nomes das colunas"
      ]
    },
    {
      "cell_type": "code",
      "metadata": {
        "id": "97C3SWlHi_G2",
        "colab_type": "code",
        "outputId": "d09f8e11-b31d-4910-fe12-59115d6b573a",
        "colab": {
          "base_uri": "https://localhost:8080/",
          "height": 204
        }
      },
      "source": [
        "avaliacoes.columns = [\"usuariosId\", \"filmeId\", \"nota\", \"momento\"]\n",
        "avaliacoes.head()"
      ],
      "execution_count": 0,
      "outputs": [
        {
          "output_type": "execute_result",
          "data": {
            "text/html": [
              "<div>\n",
              "<style scoped>\n",
              "    .dataframe tbody tr th:only-of-type {\n",
              "        vertical-align: middle;\n",
              "    }\n",
              "\n",
              "    .dataframe tbody tr th {\n",
              "        vertical-align: top;\n",
              "    }\n",
              "\n",
              "    .dataframe thead th {\n",
              "        text-align: right;\n",
              "    }\n",
              "</style>\n",
              "<table border=\"1\" class=\"dataframe\">\n",
              "  <thead>\n",
              "    <tr style=\"text-align: right;\">\n",
              "      <th></th>\n",
              "      <th>usuariosId</th>\n",
              "      <th>filmeId</th>\n",
              "      <th>nota</th>\n",
              "      <th>momento</th>\n",
              "    </tr>\n",
              "  </thead>\n",
              "  <tbody>\n",
              "    <tr>\n",
              "      <th>0</th>\n",
              "      <td>1</td>\n",
              "      <td>1</td>\n",
              "      <td>4.0</td>\n",
              "      <td>964982703</td>\n",
              "    </tr>\n",
              "    <tr>\n",
              "      <th>1</th>\n",
              "      <td>1</td>\n",
              "      <td>3</td>\n",
              "      <td>4.0</td>\n",
              "      <td>964981247</td>\n",
              "    </tr>\n",
              "    <tr>\n",
              "      <th>2</th>\n",
              "      <td>1</td>\n",
              "      <td>6</td>\n",
              "      <td>4.0</td>\n",
              "      <td>964982224</td>\n",
              "    </tr>\n",
              "    <tr>\n",
              "      <th>3</th>\n",
              "      <td>1</td>\n",
              "      <td>47</td>\n",
              "      <td>5.0</td>\n",
              "      <td>964983815</td>\n",
              "    </tr>\n",
              "    <tr>\n",
              "      <th>4</th>\n",
              "      <td>1</td>\n",
              "      <td>50</td>\n",
              "      <td>5.0</td>\n",
              "      <td>964982931</td>\n",
              "    </tr>\n",
              "  </tbody>\n",
              "</table>\n",
              "</div>"
            ],
            "text/plain": [
              "   usuariosId  filmeId  nota    momento\n",
              "0           1        1   4.0  964982703\n",
              "1           1        3   4.0  964981247\n",
              "2           1        6   4.0  964982224\n",
              "3           1       47   5.0  964983815\n",
              "4           1       50   5.0  964982931"
            ]
          },
          "metadata": {
            "tags": []
          },
          "execution_count": 110
        }
      ]
    },
    {
      "cell_type": "markdown",
      "metadata": {
        "id": "DlsxnQ3TnauV",
        "colab_type": "text"
      },
      "source": [
        "Aqui é feito um requerimento de todos os filmes de Id igual a 1"
      ]
    },
    {
      "cell_type": "code",
      "metadata": {
        "id": "8c9dcMtyjQU_",
        "colab_type": "code",
        "colab": {}
      },
      "source": [
        "filmeId_1 = avaliacoes.query(\"filmeId == 1\")"
      ],
      "execution_count": 0,
      "outputs": []
    },
    {
      "cell_type": "markdown",
      "metadata": {
        "id": "CJuuS4Rmn96R",
        "colab_type": "text"
      },
      "source": [
        "Extraindo a descrição das colunas"
      ]
    },
    {
      "cell_type": "code",
      "metadata": {
        "id": "EMnq5H_5krfe",
        "colab_type": "code",
        "outputId": "e726170d-5a13-40b4-8649-07f3bdbac4ae",
        "colab": {
          "base_uri": "https://localhost:8080/",
          "height": 297
        }
      },
      "source": [
        "avaliacoes.describe()"
      ],
      "execution_count": 0,
      "outputs": [
        {
          "output_type": "execute_result",
          "data": {
            "text/html": [
              "<div>\n",
              "<style scoped>\n",
              "    .dataframe tbody tr th:only-of-type {\n",
              "        vertical-align: middle;\n",
              "    }\n",
              "\n",
              "    .dataframe tbody tr th {\n",
              "        vertical-align: top;\n",
              "    }\n",
              "\n",
              "    .dataframe thead th {\n",
              "        text-align: right;\n",
              "    }\n",
              "</style>\n",
              "<table border=\"1\" class=\"dataframe\">\n",
              "  <thead>\n",
              "    <tr style=\"text-align: right;\">\n",
              "      <th></th>\n",
              "      <th>usuariosId</th>\n",
              "      <th>filmeId</th>\n",
              "      <th>nota</th>\n",
              "      <th>momento</th>\n",
              "    </tr>\n",
              "  </thead>\n",
              "  <tbody>\n",
              "    <tr>\n",
              "      <th>count</th>\n",
              "      <td>100836.000000</td>\n",
              "      <td>100836.000000</td>\n",
              "      <td>100836.000000</td>\n",
              "      <td>1.008360e+05</td>\n",
              "    </tr>\n",
              "    <tr>\n",
              "      <th>mean</th>\n",
              "      <td>326.127564</td>\n",
              "      <td>19435.295718</td>\n",
              "      <td>3.501557</td>\n",
              "      <td>1.205946e+09</td>\n",
              "    </tr>\n",
              "    <tr>\n",
              "      <th>std</th>\n",
              "      <td>182.618491</td>\n",
              "      <td>35530.987199</td>\n",
              "      <td>1.042529</td>\n",
              "      <td>2.162610e+08</td>\n",
              "    </tr>\n",
              "    <tr>\n",
              "      <th>min</th>\n",
              "      <td>1.000000</td>\n",
              "      <td>1.000000</td>\n",
              "      <td>0.500000</td>\n",
              "      <td>8.281246e+08</td>\n",
              "    </tr>\n",
              "    <tr>\n",
              "      <th>25%</th>\n",
              "      <td>177.000000</td>\n",
              "      <td>1199.000000</td>\n",
              "      <td>3.000000</td>\n",
              "      <td>1.019124e+09</td>\n",
              "    </tr>\n",
              "    <tr>\n",
              "      <th>50%</th>\n",
              "      <td>325.000000</td>\n",
              "      <td>2991.000000</td>\n",
              "      <td>3.500000</td>\n",
              "      <td>1.186087e+09</td>\n",
              "    </tr>\n",
              "    <tr>\n",
              "      <th>75%</th>\n",
              "      <td>477.000000</td>\n",
              "      <td>8122.000000</td>\n",
              "      <td>4.000000</td>\n",
              "      <td>1.435994e+09</td>\n",
              "    </tr>\n",
              "    <tr>\n",
              "      <th>max</th>\n",
              "      <td>610.000000</td>\n",
              "      <td>193609.000000</td>\n",
              "      <td>5.000000</td>\n",
              "      <td>1.537799e+09</td>\n",
              "    </tr>\n",
              "  </tbody>\n",
              "</table>\n",
              "</div>"
            ],
            "text/plain": [
              "          usuariosId        filmeId           nota       momento\n",
              "count  100836.000000  100836.000000  100836.000000  1.008360e+05\n",
              "mean      326.127564   19435.295718       3.501557  1.205946e+09\n",
              "std       182.618491   35530.987199       1.042529  2.162610e+08\n",
              "min         1.000000       1.000000       0.500000  8.281246e+08\n",
              "25%       177.000000    1199.000000       3.000000  1.019124e+09\n",
              "50%       325.000000    2991.000000       3.500000  1.186087e+09\n",
              "75%       477.000000    8122.000000       4.000000  1.435994e+09\n",
              "max       610.000000  193609.000000       5.000000  1.537799e+09"
            ]
          },
          "metadata": {
            "tags": []
          },
          "execution_count": 113
        }
      ]
    },
    {
      "cell_type": "markdown",
      "metadata": {
        "id": "O71l9xrnnnR5",
        "colab_type": "text"
      },
      "source": [
        "Extraindo apenas a coluna Notas"
      ]
    },
    {
      "cell_type": "code",
      "metadata": {
        "id": "dexCZwgHktlk",
        "colab_type": "code",
        "outputId": "313cd7cc-5437-46a8-d3be-39bfebb2ca18",
        "colab": {
          "base_uri": "https://localhost:8080/",
          "height": 221
        }
      },
      "source": [
        "avaliacoes[\"nota\"]"
      ],
      "execution_count": 0,
      "outputs": [
        {
          "output_type": "execute_result",
          "data": {
            "text/plain": [
              "0         4.0\n",
              "1         4.0\n",
              "2         4.0\n",
              "3         5.0\n",
              "4         5.0\n",
              "         ... \n",
              "100831    4.0\n",
              "100832    5.0\n",
              "100833    5.0\n",
              "100834    5.0\n",
              "100835    3.0\n",
              "Name: nota, Length: 100836, dtype: float64"
            ]
          },
          "metadata": {
            "tags": []
          },
          "execution_count": 114
        }
      ]
    },
    {
      "cell_type": "markdown",
      "metadata": {
        "id": "xxXoiqv7ns9j",
        "colab_type": "text"
      },
      "source": [
        "Requerimento da média da coluna nota somente do filme de Id igual a 1\n",
        "\n",
        "---\n",
        "\n"
      ]
    },
    {
      "cell_type": "code",
      "metadata": {
        "id": "E8me65O4k0uS",
        "colab_type": "code",
        "outputId": "c623e4e1-df0e-4935-80c1-96b7b57e3884",
        "colab": {
          "base_uri": "https://localhost:8080/",
          "height": 34
        }
      },
      "source": [
        "avaliacoes.query(\"filmeId==1\")[\"nota\"].mean()"
      ],
      "execution_count": 0,
      "outputs": [
        {
          "output_type": "execute_result",
          "data": {
            "text/plain": [
              "3.9209302325581397"
            ]
          },
          "metadata": {
            "tags": []
          },
          "execution_count": 115
        }
      ]
    },
    {
      "cell_type": "markdown",
      "metadata": {
        "id": "6VzUtZFRoo64",
        "colab_type": "text"
      },
      "source": [
        "Extraindo a média da coluna nota com a coluna filmeId agrupada"
      ]
    },
    {
      "cell_type": "code",
      "metadata": {
        "id": "cMh8PdJFlCH3",
        "colab_type": "code",
        "outputId": "e8d06cb8-b707-40f7-e167-a8bff266c76e",
        "colab": {
          "base_uri": "https://localhost:8080/",
          "height": 238
        }
      },
      "source": [
        "notas_medias_por_filme = avaliacoes.groupby(\"filmeId\")[\"nota\"].mean()\n",
        "notas_medias_por_filme.round(decimals=2)"
      ],
      "execution_count": 0,
      "outputs": [
        {
          "output_type": "execute_result",
          "data": {
            "text/plain": [
              "filmeId\n",
              "1         3.92\n",
              "2         3.43\n",
              "3         3.26\n",
              "4         2.36\n",
              "5         3.07\n",
              "          ... \n",
              "193581    4.00\n",
              "193583    3.50\n",
              "193585    3.50\n",
              "193587    3.50\n",
              "193609    4.00\n",
              "Name: nota, Length: 9724, dtype: float64"
            ]
          },
          "metadata": {
            "tags": []
          },
          "execution_count": 168
        }
      ]
    },
    {
      "cell_type": "markdown",
      "metadata": {
        "id": "y4Yr_2hkvHZZ",
        "colab_type": "text"
      },
      "source": [
        "Aqui é feito um join com a média das notas dos filmes e a tabela filmes"
      ]
    },
    {
      "cell_type": "code",
      "metadata": {
        "id": "hMLjuv4wocdR",
        "colab_type": "code",
        "outputId": "9a1a0d75-4a03-48f6-81bc-be74a79ee09f",
        "colab": {
          "base_uri": "https://localhost:8080/",
          "height": 204
        }
      },
      "source": [
        "filme_com_media = filmes.join(notas_medias_por_filme, on = \"filmeId\")\n",
        "filme_com_media.head()"
      ],
      "execution_count": 0,
      "outputs": [
        {
          "output_type": "execute_result",
          "data": {
            "text/html": [
              "<div>\n",
              "<style scoped>\n",
              "    .dataframe tbody tr th:only-of-type {\n",
              "        vertical-align: middle;\n",
              "    }\n",
              "\n",
              "    .dataframe tbody tr th {\n",
              "        vertical-align: top;\n",
              "    }\n",
              "\n",
              "    .dataframe thead th {\n",
              "        text-align: right;\n",
              "    }\n",
              "</style>\n",
              "<table border=\"1\" class=\"dataframe\">\n",
              "  <thead>\n",
              "    <tr style=\"text-align: right;\">\n",
              "      <th></th>\n",
              "      <th>filmeId</th>\n",
              "      <th>titulo</th>\n",
              "      <th>generos</th>\n",
              "      <th>nota</th>\n",
              "    </tr>\n",
              "  </thead>\n",
              "  <tbody>\n",
              "    <tr>\n",
              "      <th>0</th>\n",
              "      <td>1</td>\n",
              "      <td>Toy Story (1995)</td>\n",
              "      <td>Adventure|Animation|Children|Comedy|Fantasy</td>\n",
              "      <td>3.920930</td>\n",
              "    </tr>\n",
              "    <tr>\n",
              "      <th>1</th>\n",
              "      <td>2</td>\n",
              "      <td>Jumanji (1995)</td>\n",
              "      <td>Adventure|Children|Fantasy</td>\n",
              "      <td>3.431818</td>\n",
              "    </tr>\n",
              "    <tr>\n",
              "      <th>2</th>\n",
              "      <td>3</td>\n",
              "      <td>Grumpier Old Men (1995)</td>\n",
              "      <td>Comedy|Romance</td>\n",
              "      <td>3.259615</td>\n",
              "    </tr>\n",
              "    <tr>\n",
              "      <th>3</th>\n",
              "      <td>4</td>\n",
              "      <td>Waiting to Exhale (1995)</td>\n",
              "      <td>Comedy|Drama|Romance</td>\n",
              "      <td>2.357143</td>\n",
              "    </tr>\n",
              "    <tr>\n",
              "      <th>4</th>\n",
              "      <td>5</td>\n",
              "      <td>Father of the Bride Part II (1995)</td>\n",
              "      <td>Comedy</td>\n",
              "      <td>3.071429</td>\n",
              "    </tr>\n",
              "  </tbody>\n",
              "</table>\n",
              "</div>"
            ],
            "text/plain": [
              "   filmeId  ...      nota\n",
              "0        1  ...  3.920930\n",
              "1        2  ...  3.431818\n",
              "2        3  ...  3.259615\n",
              "3        4  ...  2.357143\n",
              "4        5  ...  3.071429\n",
              "\n",
              "[5 rows x 4 columns]"
            ]
          },
          "metadata": {
            "tags": []
          },
          "execution_count": 117
        }
      ]
    },
    {
      "cell_type": "markdown",
      "metadata": {
        "id": "7_xorrfr08xZ",
        "colab_type": "text"
      },
      "source": [
        "Mudando o nome de uma coluna notas para media"
      ]
    },
    {
      "cell_type": "code",
      "metadata": {
        "id": "n3nGuKRLySaT",
        "colab_type": "code",
        "outputId": "139c53d2-92ff-4b2a-9f0b-0cf3a9041b3d",
        "colab": {
          "base_uri": "https://localhost:8080/",
          "height": 204
        }
      },
      "source": [
        "filme_com_media = filme_com_media.rename(columns={\"nota\": \"media\"})\n",
        "filme_com_media.head()"
      ],
      "execution_count": 0,
      "outputs": [
        {
          "output_type": "execute_result",
          "data": {
            "text/html": [
              "<div>\n",
              "<style scoped>\n",
              "    .dataframe tbody tr th:only-of-type {\n",
              "        vertical-align: middle;\n",
              "    }\n",
              "\n",
              "    .dataframe tbody tr th {\n",
              "        vertical-align: top;\n",
              "    }\n",
              "\n",
              "    .dataframe thead th {\n",
              "        text-align: right;\n",
              "    }\n",
              "</style>\n",
              "<table border=\"1\" class=\"dataframe\">\n",
              "  <thead>\n",
              "    <tr style=\"text-align: right;\">\n",
              "      <th></th>\n",
              "      <th>filmeId</th>\n",
              "      <th>titulo</th>\n",
              "      <th>generos</th>\n",
              "      <th>media</th>\n",
              "    </tr>\n",
              "  </thead>\n",
              "  <tbody>\n",
              "    <tr>\n",
              "      <th>0</th>\n",
              "      <td>1</td>\n",
              "      <td>Toy Story (1995)</td>\n",
              "      <td>Adventure|Animation|Children|Comedy|Fantasy</td>\n",
              "      <td>3.920930</td>\n",
              "    </tr>\n",
              "    <tr>\n",
              "      <th>1</th>\n",
              "      <td>2</td>\n",
              "      <td>Jumanji (1995)</td>\n",
              "      <td>Adventure|Children|Fantasy</td>\n",
              "      <td>3.431818</td>\n",
              "    </tr>\n",
              "    <tr>\n",
              "      <th>2</th>\n",
              "      <td>3</td>\n",
              "      <td>Grumpier Old Men (1995)</td>\n",
              "      <td>Comedy|Romance</td>\n",
              "      <td>3.259615</td>\n",
              "    </tr>\n",
              "    <tr>\n",
              "      <th>3</th>\n",
              "      <td>4</td>\n",
              "      <td>Waiting to Exhale (1995)</td>\n",
              "      <td>Comedy|Drama|Romance</td>\n",
              "      <td>2.357143</td>\n",
              "    </tr>\n",
              "    <tr>\n",
              "      <th>4</th>\n",
              "      <td>5</td>\n",
              "      <td>Father of the Bride Part II (1995)</td>\n",
              "      <td>Comedy</td>\n",
              "      <td>3.071429</td>\n",
              "    </tr>\n",
              "  </tbody>\n",
              "</table>\n",
              "</div>"
            ],
            "text/plain": [
              "   filmeId  ...     media\n",
              "0        1  ...  3.920930\n",
              "1        2  ...  3.431818\n",
              "2        3  ...  3.259615\n",
              "3        4  ...  2.357143\n",
              "4        5  ...  3.071429\n",
              "\n",
              "[5 rows x 4 columns]"
            ]
          },
          "metadata": {
            "tags": []
          },
          "execution_count": 118
        }
      ]
    },
    {
      "cell_type": "markdown",
      "metadata": {
        "id": "Xe0Txyuhvqbf",
        "colab_type": "text"
      },
      "source": [
        "Ordenando por maior média de nota através da função Sort()"
      ]
    },
    {
      "cell_type": "code",
      "metadata": {
        "id": "0rg3VwQiqmte",
        "colab_type": "code",
        "outputId": "e02e8b38-c8de-4f65-e571-4191867c154c",
        "colab": {
          "base_uri": "https://localhost:8080/",
          "height": 204
        }
      },
      "source": [
        "filme_com_media.sort_values(\"media\", ascending = False).head()"
      ],
      "execution_count": 0,
      "outputs": [
        {
          "output_type": "execute_result",
          "data": {
            "text/html": [
              "<div>\n",
              "<style scoped>\n",
              "    .dataframe tbody tr th:only-of-type {\n",
              "        vertical-align: middle;\n",
              "    }\n",
              "\n",
              "    .dataframe tbody tr th {\n",
              "        vertical-align: top;\n",
              "    }\n",
              "\n",
              "    .dataframe thead th {\n",
              "        text-align: right;\n",
              "    }\n",
              "</style>\n",
              "<table border=\"1\" class=\"dataframe\">\n",
              "  <thead>\n",
              "    <tr style=\"text-align: right;\">\n",
              "      <th></th>\n",
              "      <th>filmeId</th>\n",
              "      <th>titulo</th>\n",
              "      <th>generos</th>\n",
              "      <th>media</th>\n",
              "    </tr>\n",
              "  </thead>\n",
              "  <tbody>\n",
              "    <tr>\n",
              "      <th>7656</th>\n",
              "      <td>88448</td>\n",
              "      <td>Paper Birds (Pájaros de papel) (2010)</td>\n",
              "      <td>Comedy|Drama</td>\n",
              "      <td>5.0</td>\n",
              "    </tr>\n",
              "    <tr>\n",
              "      <th>8107</th>\n",
              "      <td>100556</td>\n",
              "      <td>Act of Killing, The (2012)</td>\n",
              "      <td>Documentary</td>\n",
              "      <td>5.0</td>\n",
              "    </tr>\n",
              "    <tr>\n",
              "      <th>9083</th>\n",
              "      <td>143031</td>\n",
              "      <td>Jump In! (2007)</td>\n",
              "      <td>Comedy|Drama|Romance</td>\n",
              "      <td>5.0</td>\n",
              "    </tr>\n",
              "    <tr>\n",
              "      <th>9094</th>\n",
              "      <td>143511</td>\n",
              "      <td>Human (2015)</td>\n",
              "      <td>Documentary</td>\n",
              "      <td>5.0</td>\n",
              "    </tr>\n",
              "    <tr>\n",
              "      <th>9096</th>\n",
              "      <td>143559</td>\n",
              "      <td>L.A. Slasher (2015)</td>\n",
              "      <td>Comedy|Crime|Fantasy</td>\n",
              "      <td>5.0</td>\n",
              "    </tr>\n",
              "  </tbody>\n",
              "</table>\n",
              "</div>"
            ],
            "text/plain": [
              "      filmeId  ... media\n",
              "7656    88448  ...   5.0\n",
              "8107   100556  ...   5.0\n",
              "9083   143031  ...   5.0\n",
              "9094   143511  ...   5.0\n",
              "9096   143559  ...   5.0\n",
              "\n",
              "[5 rows x 4 columns]"
            ]
          },
          "metadata": {
            "tags": []
          },
          "execution_count": 120
        }
      ]
    },
    {
      "cell_type": "markdown",
      "metadata": {
        "id": "LjmvLDpA7-Al",
        "colab_type": "text"
      },
      "source": [
        "Número de avaliações por filme"
      ]
    },
    {
      "cell_type": "code",
      "metadata": {
        "id": "KPBJCZd74ROf",
        "colab_type": "code",
        "outputId": "fce5e0b2-84b9-4cef-8cd0-45c8d689f58f",
        "colab": {
          "base_uri": "https://localhost:8080/",
          "height": 136
        }
      },
      "source": [
        "qtd_avaliacoes_por_filme = avaliacoes.groupby(\"filmeId\")[\"nota\"].count()\n",
        "qtd_avaliacoes_por_filme.head()"
      ],
      "execution_count": 0,
      "outputs": [
        {
          "output_type": "execute_result",
          "data": {
            "text/plain": [
              "filmeId\n",
              "1    215\n",
              "2    110\n",
              "3     52\n",
              "4      7\n",
              "5     49\n",
              "Name: nota, dtype: int64"
            ]
          },
          "metadata": {
            "tags": []
          },
          "execution_count": 122
        }
      ]
    },
    {
      "cell_type": "markdown",
      "metadata": {
        "id": "1DF0ChbN_RuI",
        "colab_type": "text"
      },
      "source": [
        "Aqui é feito mais um join com a quantidade por filme e a coluna filmeId"
      ]
    },
    {
      "cell_type": "code",
      "metadata": {
        "id": "fv90NwRm7YyT",
        "colab_type": "code",
        "outputId": "de45353f-24de-4203-b301-3581f590e15c",
        "colab": {
          "base_uri": "https://localhost:8080/",
          "height": 204
        }
      },
      "source": [
        "filmes_com_media_qtd = filme_com_media.join(qtd_avaliacoes_por_filme, on = \"filmeId\")\n",
        "filmes_com_media_qtd.head()"
      ],
      "execution_count": 0,
      "outputs": [
        {
          "output_type": "execute_result",
          "data": {
            "text/html": [
              "<div>\n",
              "<style scoped>\n",
              "    .dataframe tbody tr th:only-of-type {\n",
              "        vertical-align: middle;\n",
              "    }\n",
              "\n",
              "    .dataframe tbody tr th {\n",
              "        vertical-align: top;\n",
              "    }\n",
              "\n",
              "    .dataframe thead th {\n",
              "        text-align: right;\n",
              "    }\n",
              "</style>\n",
              "<table border=\"1\" class=\"dataframe\">\n",
              "  <thead>\n",
              "    <tr style=\"text-align: right;\">\n",
              "      <th></th>\n",
              "      <th>filmeId</th>\n",
              "      <th>titulo</th>\n",
              "      <th>generos</th>\n",
              "      <th>media</th>\n",
              "      <th>nota</th>\n",
              "    </tr>\n",
              "  </thead>\n",
              "  <tbody>\n",
              "    <tr>\n",
              "      <th>0</th>\n",
              "      <td>1</td>\n",
              "      <td>Toy Story (1995)</td>\n",
              "      <td>Adventure|Animation|Children|Comedy|Fantasy</td>\n",
              "      <td>3.920930</td>\n",
              "      <td>215.0</td>\n",
              "    </tr>\n",
              "    <tr>\n",
              "      <th>1</th>\n",
              "      <td>2</td>\n",
              "      <td>Jumanji (1995)</td>\n",
              "      <td>Adventure|Children|Fantasy</td>\n",
              "      <td>3.431818</td>\n",
              "      <td>110.0</td>\n",
              "    </tr>\n",
              "    <tr>\n",
              "      <th>2</th>\n",
              "      <td>3</td>\n",
              "      <td>Grumpier Old Men (1995)</td>\n",
              "      <td>Comedy|Romance</td>\n",
              "      <td>3.259615</td>\n",
              "      <td>52.0</td>\n",
              "    </tr>\n",
              "    <tr>\n",
              "      <th>3</th>\n",
              "      <td>4</td>\n",
              "      <td>Waiting to Exhale (1995)</td>\n",
              "      <td>Comedy|Drama|Romance</td>\n",
              "      <td>2.357143</td>\n",
              "      <td>7.0</td>\n",
              "    </tr>\n",
              "    <tr>\n",
              "      <th>4</th>\n",
              "      <td>5</td>\n",
              "      <td>Father of the Bride Part II (1995)</td>\n",
              "      <td>Comedy</td>\n",
              "      <td>3.071429</td>\n",
              "      <td>49.0</td>\n",
              "    </tr>\n",
              "  </tbody>\n",
              "</table>\n",
              "</div>"
            ],
            "text/plain": [
              "   filmeId                              titulo  ...     media   nota\n",
              "0        1                    Toy Story (1995)  ...  3.920930  215.0\n",
              "1        2                      Jumanji (1995)  ...  3.431818  110.0\n",
              "2        3             Grumpier Old Men (1995)  ...  3.259615   52.0\n",
              "3        4            Waiting to Exhale (1995)  ...  2.357143    7.0\n",
              "4        5  Father of the Bride Part II (1995)  ...  3.071429   49.0\n",
              "\n",
              "[5 rows x 5 columns]"
            ]
          },
          "metadata": {
            "tags": []
          },
          "execution_count": 123
        }
      ]
    },
    {
      "cell_type": "markdown",
      "metadata": {
        "id": "5LZT5uFh9yUg",
        "colab_type": "text"
      },
      "source": [
        "Renomeando a coluna com a quantidade de notas por filme"
      ]
    },
    {
      "cell_type": "code",
      "metadata": {
        "id": "7lbfuH_38z2S",
        "colab_type": "code",
        "outputId": "1b4785f2-7a6d-4e74-a868-49710ca5d72d",
        "colab": {
          "base_uri": "https://localhost:8080/",
          "height": 204
        }
      },
      "source": [
        "filmes_com_media_qtd = filmes_com_media_qtd.rename(columns = {'nota':'qtd.Avaliacoes'})\n",
        "filmes_com_media_qtd.head()"
      ],
      "execution_count": 0,
      "outputs": [
        {
          "output_type": "execute_result",
          "data": {
            "text/html": [
              "<div>\n",
              "<style scoped>\n",
              "    .dataframe tbody tr th:only-of-type {\n",
              "        vertical-align: middle;\n",
              "    }\n",
              "\n",
              "    .dataframe tbody tr th {\n",
              "        vertical-align: top;\n",
              "    }\n",
              "\n",
              "    .dataframe thead th {\n",
              "        text-align: right;\n",
              "    }\n",
              "</style>\n",
              "<table border=\"1\" class=\"dataframe\">\n",
              "  <thead>\n",
              "    <tr style=\"text-align: right;\">\n",
              "      <th></th>\n",
              "      <th>filmeId</th>\n",
              "      <th>titulo</th>\n",
              "      <th>generos</th>\n",
              "      <th>media</th>\n",
              "      <th>qtd.Avaliacoes</th>\n",
              "    </tr>\n",
              "  </thead>\n",
              "  <tbody>\n",
              "    <tr>\n",
              "      <th>0</th>\n",
              "      <td>1</td>\n",
              "      <td>Toy Story (1995)</td>\n",
              "      <td>Adventure|Animation|Children|Comedy|Fantasy</td>\n",
              "      <td>3.920930</td>\n",
              "      <td>215.0</td>\n",
              "    </tr>\n",
              "    <tr>\n",
              "      <th>1</th>\n",
              "      <td>2</td>\n",
              "      <td>Jumanji (1995)</td>\n",
              "      <td>Adventure|Children|Fantasy</td>\n",
              "      <td>3.431818</td>\n",
              "      <td>110.0</td>\n",
              "    </tr>\n",
              "    <tr>\n",
              "      <th>2</th>\n",
              "      <td>3</td>\n",
              "      <td>Grumpier Old Men (1995)</td>\n",
              "      <td>Comedy|Romance</td>\n",
              "      <td>3.259615</td>\n",
              "      <td>52.0</td>\n",
              "    </tr>\n",
              "    <tr>\n",
              "      <th>3</th>\n",
              "      <td>4</td>\n",
              "      <td>Waiting to Exhale (1995)</td>\n",
              "      <td>Comedy|Drama|Romance</td>\n",
              "      <td>2.357143</td>\n",
              "      <td>7.0</td>\n",
              "    </tr>\n",
              "    <tr>\n",
              "      <th>4</th>\n",
              "      <td>5</td>\n",
              "      <td>Father of the Bride Part II (1995)</td>\n",
              "      <td>Comedy</td>\n",
              "      <td>3.071429</td>\n",
              "      <td>49.0</td>\n",
              "    </tr>\n",
              "  </tbody>\n",
              "</table>\n",
              "</div>"
            ],
            "text/plain": [
              "   filmeId                              titulo  ...     media  qtd.Avaliacoes\n",
              "0        1                    Toy Story (1995)  ...  3.920930           215.0\n",
              "1        2                      Jumanji (1995)  ...  3.431818           110.0\n",
              "2        3             Grumpier Old Men (1995)  ...  3.259615            52.0\n",
              "3        4            Waiting to Exhale (1995)  ...  2.357143             7.0\n",
              "4        5  Father of the Bride Part II (1995)  ...  3.071429            49.0\n",
              "\n",
              "[5 rows x 5 columns]"
            ]
          },
          "metadata": {
            "tags": []
          },
          "execution_count": 124
        }
      ]
    },
    {
      "cell_type": "markdown",
      "metadata": {
        "id": "FsTkIb0F_jYD",
        "colab_type": "text"
      },
      "source": [
        "Atribuindo as mudanças para o dataframe new filmes"
      ]
    },
    {
      "cell_type": "code",
      "metadata": {
        "id": "iEoCxIlq9VJb",
        "colab_type": "code",
        "outputId": "8af07498-16e0-44cf-fa1d-423bbbbcec41",
        "colab": {
          "base_uri": "https://localhost:8080/",
          "height": 204
        }
      },
      "source": [
        "new_filmes = filmes_com_media_qtd\n",
        "new_filmes.head()"
      ],
      "execution_count": 0,
      "outputs": [
        {
          "output_type": "execute_result",
          "data": {
            "text/html": [
              "<div>\n",
              "<style scoped>\n",
              "    .dataframe tbody tr th:only-of-type {\n",
              "        vertical-align: middle;\n",
              "    }\n",
              "\n",
              "    .dataframe tbody tr th {\n",
              "        vertical-align: top;\n",
              "    }\n",
              "\n",
              "    .dataframe thead th {\n",
              "        text-align: right;\n",
              "    }\n",
              "</style>\n",
              "<table border=\"1\" class=\"dataframe\">\n",
              "  <thead>\n",
              "    <tr style=\"text-align: right;\">\n",
              "      <th></th>\n",
              "      <th>filmeId</th>\n",
              "      <th>titulo</th>\n",
              "      <th>generos</th>\n",
              "      <th>media</th>\n",
              "      <th>qtd.Avaliacoes</th>\n",
              "    </tr>\n",
              "  </thead>\n",
              "  <tbody>\n",
              "    <tr>\n",
              "      <th>0</th>\n",
              "      <td>1</td>\n",
              "      <td>Toy Story (1995)</td>\n",
              "      <td>Adventure|Animation|Children|Comedy|Fantasy</td>\n",
              "      <td>3.920930</td>\n",
              "      <td>215.0</td>\n",
              "    </tr>\n",
              "    <tr>\n",
              "      <th>1</th>\n",
              "      <td>2</td>\n",
              "      <td>Jumanji (1995)</td>\n",
              "      <td>Adventure|Children|Fantasy</td>\n",
              "      <td>3.431818</td>\n",
              "      <td>110.0</td>\n",
              "    </tr>\n",
              "    <tr>\n",
              "      <th>2</th>\n",
              "      <td>3</td>\n",
              "      <td>Grumpier Old Men (1995)</td>\n",
              "      <td>Comedy|Romance</td>\n",
              "      <td>3.259615</td>\n",
              "      <td>52.0</td>\n",
              "    </tr>\n",
              "    <tr>\n",
              "      <th>3</th>\n",
              "      <td>4</td>\n",
              "      <td>Waiting to Exhale (1995)</td>\n",
              "      <td>Comedy|Drama|Romance</td>\n",
              "      <td>2.357143</td>\n",
              "      <td>7.0</td>\n",
              "    </tr>\n",
              "    <tr>\n",
              "      <th>4</th>\n",
              "      <td>5</td>\n",
              "      <td>Father of the Bride Part II (1995)</td>\n",
              "      <td>Comedy</td>\n",
              "      <td>3.071429</td>\n",
              "      <td>49.0</td>\n",
              "    </tr>\n",
              "  </tbody>\n",
              "</table>\n",
              "</div>"
            ],
            "text/plain": [
              "   filmeId                              titulo  ...     media  qtd.Avaliacoes\n",
              "0        1                    Toy Story (1995)  ...  3.920930           215.0\n",
              "1        2                      Jumanji (1995)  ...  3.431818           110.0\n",
              "2        3             Grumpier Old Men (1995)  ...  3.259615            52.0\n",
              "3        4            Waiting to Exhale (1995)  ...  2.357143             7.0\n",
              "4        5  Father of the Bride Part II (1995)  ...  3.071429            49.0\n",
              "\n",
              "[5 rows x 5 columns]"
            ]
          },
          "metadata": {
            "tags": []
          },
          "execution_count": 176
        }
      ]
    },
    {
      "cell_type": "code",
      "metadata": {
        "id": "mfUaznkZ-EtQ",
        "colab_type": "code",
        "outputId": "3412897d-fe61-42c8-dc04-861ff6072ae2",
        "colab": {
          "base_uri": "https://localhost:8080/",
          "height": 295
        }
      },
      "source": [
        "avaliacoes.query(\"filmeId==1\")[\"nota\"].plot(kind = 'hist', title = \"Avaliações do filme Toy Story (1995)\")\n",
        "plt.xlabel(\"Notas\")\n",
        "plt.ylabel(\"quantidade de notas\")\n",
        "plt.show()"
      ],
      "execution_count": 0,
      "outputs": [
        {
          "output_type": "display_data",
          "data": {
            "image/png": "[encoded data removed]",
            "text/plain": [
              "<Figure size 432x288 with 1 Axes>"
            ]
          },
          "metadata": {
            "tags": [],
            "needs_background": "light"
          }
        }
      ]
    },
    {
      "cell_type": "markdown",
      "metadata": {
        "id": "eHKHRXIUDSDG",
        "colab_type": "text"
      },
      "source": [
        "Arredondando as médias para duas casas decimais"
      ]
    },
    {
      "cell_type": "code",
      "metadata": {
        "id": "g6lNjmDLD3Y8",
        "colab_type": "code",
        "colab": {}
      },
      "source": [
        "media_arr = new_filmes[\"media\"].round(decimals = 2)"
      ],
      "execution_count": 0,
      "outputs": []
    },
    {
      "cell_type": "code",
      "metadata": {
        "id": "PThPUhoiMG0g",
        "colab_type": "code",
        "outputId": "248db6cd-db50-4034-db68-766e70dc2d9e",
        "colab": {
          "base_uri": "https://localhost:8080/",
          "height": 204
        }
      },
      "source": [
        "new_filmes[\"media\"] = media_arr\n",
        "new_filmes.head()"
      ],
      "execution_count": 0,
      "outputs": [
        {
          "output_type": "execute_result",
          "data": {
            "text/html": [
              "<div>\n",
              "<style scoped>\n",
              "    .dataframe tbody tr th:only-of-type {\n",
              "        vertical-align: middle;\n",
              "    }\n",
              "\n",
              "    .dataframe tbody tr th {\n",
              "        vertical-align: top;\n",
              "    }\n",
              "\n",
              "    .dataframe thead th {\n",
              "        text-align: right;\n",
              "    }\n",
              "</style>\n",
              "<table border=\"1\" class=\"dataframe\">\n",
              "  <thead>\n",
              "    <tr style=\"text-align: right;\">\n",
              "      <th></th>\n",
              "      <th>filmeId</th>\n",
              "      <th>titulo</th>\n",
              "      <th>generos</th>\n",
              "      <th>media</th>\n",
              "      <th>qtd.Avaliacoes</th>\n",
              "    </tr>\n",
              "  </thead>\n",
              "  <tbody>\n",
              "    <tr>\n",
              "      <th>0</th>\n",
              "      <td>1</td>\n",
              "      <td>Toy Story (1995)</td>\n",
              "      <td>Adventure|Animation|Children|Comedy|Fantasy</td>\n",
              "      <td>3.92</td>\n",
              "      <td>215.0</td>\n",
              "    </tr>\n",
              "    <tr>\n",
              "      <th>1</th>\n",
              "      <td>2</td>\n",
              "      <td>Jumanji (1995)</td>\n",
              "      <td>Adventure|Children|Fantasy</td>\n",
              "      <td>3.43</td>\n",
              "      <td>110.0</td>\n",
              "    </tr>\n",
              "    <tr>\n",
              "      <th>2</th>\n",
              "      <td>3</td>\n",
              "      <td>Grumpier Old Men (1995)</td>\n",
              "      <td>Comedy|Romance</td>\n",
              "      <td>3.26</td>\n",
              "      <td>52.0</td>\n",
              "    </tr>\n",
              "    <tr>\n",
              "      <th>3</th>\n",
              "      <td>4</td>\n",
              "      <td>Waiting to Exhale (1995)</td>\n",
              "      <td>Comedy|Drama|Romance</td>\n",
              "      <td>2.36</td>\n",
              "      <td>7.0</td>\n",
              "    </tr>\n",
              "    <tr>\n",
              "      <th>4</th>\n",
              "      <td>5</td>\n",
              "      <td>Father of the Bride Part II (1995)</td>\n",
              "      <td>Comedy</td>\n",
              "      <td>3.07</td>\n",
              "      <td>49.0</td>\n",
              "    </tr>\n",
              "  </tbody>\n",
              "</table>\n",
              "</div>"
            ],
            "text/plain": [
              "   filmeId                              titulo  ... media  qtd.Avaliacoes\n",
              "0        1                    Toy Story (1995)  ...  3.92           215.0\n",
              "1        2                      Jumanji (1995)  ...  3.43           110.0\n",
              "2        3             Grumpier Old Men (1995)  ...  3.26            52.0\n",
              "3        4            Waiting to Exhale (1995)  ...  2.36             7.0\n",
              "4        5  Father of the Bride Part II (1995)  ...  3.07            49.0\n",
              "\n",
              "[5 rows x 5 columns]"
            ]
          },
          "metadata": {
            "tags": []
          },
          "execution_count": 181
        }
      ]
    },
    {
      "cell_type": "markdown",
      "metadata": {
        "id": "m0OUlwYWM0oc",
        "colab_type": "text"
      },
      "source": [
        "Descobrindo os generos dos filmes"
      ]
    },
    {
      "cell_type": "code",
      "metadata": {
        "id": "RbpXX7oqMJY2",
        "colab_type": "code",
        "outputId": "b458c0bd-d509-4cfa-e847-b965fb995c36",
        "colab": {
          "base_uri": "https://localhost:8080/",
          "height": 1000
        }
      },
      "source": [
        "ordenar_generos = new_filmes.generos.sort_values()\n",
        "genero_anterior = ordenar_generos[0]\n",
        "\n",
        "for gen in ordenar_generos[1:]:\n",
        "  if gen == genero_anterior:\n",
        "    pass\n",
        "  else:\n",
        "    print(genero_anterior)\n",
        "    genero_anterior = gen"
      ],
      "execution_count": 0,
      "outputs": [
        {
          "output_type": "stream",
          "text": [
            "Adventure|Animation|Children|Comedy|Fantasy\n",
            "(no genres listed)\n",
            "Action\n",
            "Action|Adventure\n",
            "Action|Adventure|Animation\n",
            "Action|Adventure|Animation|Children\n",
            "Action|Adventure|Animation|Children|Comedy\n",
            "Action|Adventure|Animation|Children|Comedy|Fantasy\n",
            "Action|Adventure|Animation|Children|Comedy|IMAX\n",
            "Action|Adventure|Animation|Children|Comedy|Romance\n",
            "Action|Adventure|Animation|Children|Comedy|Sci-Fi\n",
            "Action|Adventure|Animation|Children|Comedy|Sci-Fi|IMAX\n",
            "Action|Adventure|Animation|Children|Comedy|Western\n",
            "Action|Adventure|Animation|Children|Fantasy\n",
            "Action|Adventure|Animation|Children|Fantasy|Sci-Fi\n",
            "Action|Adventure|Animation|Children|Sci-Fi\n",
            "Action|Adventure|Animation|Comedy\n",
            "Action|Adventure|Animation|Comedy|Crime|Mystery\n",
            "Action|Adventure|Animation|Comedy|Fantasy|Mystery|Sci-Fi\n",
            "Action|Adventure|Animation|Comedy|Fantasy|Sci-Fi\n",
            "Action|Adventure|Animation|Comedy|Sci-Fi\n",
            "Action|Adventure|Animation|Comedy|Thriller\n",
            "Action|Adventure|Animation|Crime|Fantasy\n",
            "Action|Adventure|Animation|Drama\n",
            "Action|Adventure|Animation|Drama|Fantasy\n",
            "Action|Adventure|Animation|Drama|Fantasy|Sci-Fi\n",
            "Action|Adventure|Animation|Fantasy\n",
            "Action|Adventure|Animation|Fantasy|IMAX\n",
            "Action|Adventure|Animation|Fantasy|Sci-Fi\n",
            "Action|Adventure|Animation|Horror\n",
            "Action|Adventure|Animation|Horror|Sci-Fi\n",
            "Action|Adventure|Animation|Sci-Fi\n",
            "Action|Adventure|Animation|Sci-Fi|Thriller\n",
            "Action|Adventure|Children\n",
            "Action|Adventure|Children|Comedy\n",
            "Action|Adventure|Children|Comedy|Crime\n",
            "Action|Adventure|Children|Comedy|Fantasy\n",
            "Action|Adventure|Children|Comedy|Fantasy|Sci-Fi\n",
            "Action|Adventure|Children|Comedy|Mystery\n",
            "Action|Adventure|Children|Comedy|Sci-Fi\n",
            "Action|Adventure|Children|Crime|Mystery|Thriller\n",
            "Action|Adventure|Children|Drama\n",
            "Action|Adventure|Children|Fantasy\n",
            "Action|Adventure|Children|Fantasy|Mystery|Thriller\n",
            "Action|Adventure|Children|IMAX\n",
            "Action|Adventure|Children|Mystery|Sci-Fi\n",
            "Action|Adventure|Children|Sci-Fi\n",
            "Action|Adventure|Comedy\n",
            "Action|Adventure|Comedy|Crime\n",
            "Action|Adventure|Comedy|Crime|Drama\n",
            "Action|Adventure|Comedy|Crime|Drama|Film-Noir|Horror|Mystery|Thriller|Western\n",
            "Action|Adventure|Comedy|Crime|Fantasy\n",
            "Action|Adventure|Comedy|Crime|Mystery|Thriller\n",
            "Action|Adventure|Comedy|Crime|Romance|Thriller\n",
            "Action|Adventure|Comedy|Crime|Thriller\n",
            "Action|Adventure|Comedy|Documentary|Fantasy\n",
            "Action|Adventure|Comedy|Drama\n",
            "Action|Adventure|Comedy|Drama|Fantasy|Thriller\n",
            "Action|Adventure|Comedy|Drama|Romance\n",
            "Action|Adventure|Comedy|Drama|Romance|Thriller\n",
            "Action|Adventure|Comedy|Drama|Romance|War\n",
            "Action|Adventure|Comedy|Drama|Thriller\n",
            "Action|Adventure|Comedy|Drama|War\n",
            "Action|Adventure|Comedy|Fantasy\n",
            "Action|Adventure|Comedy|Fantasy|Horror\n",
            "Action|Adventure|Comedy|Fantasy|Horror|Thriller\n",
            "Action|Adventure|Comedy|Fantasy|Mystery\n",
            "Action|Adventure|Comedy|Fantasy|Romance\n",
            "Action|Adventure|Comedy|Fantasy|Sci-Fi\n",
            "Action|Adventure|Comedy|Fantasy|Sci-Fi|Thriller\n",
            "Action|Adventure|Comedy|Horror\n",
            "Action|Adventure|Comedy|Romance\n",
            "Action|Adventure|Comedy|Romance|Thriller\n",
            "Action|Adventure|Comedy|Sci-Fi\n",
            "Action|Adventure|Comedy|Sci-Fi|IMAX\n",
            "Action|Adventure|Comedy|Sci-Fi|Thriller\n",
            "Action|Adventure|Comedy|Thriller\n",
            "Action|Adventure|Comedy|War\n",
            "Action|Adventure|Comedy|Western\n",
            "Action|Adventure|Crime\n",
            "Action|Adventure|Crime|Drama\n",
            "Action|Adventure|Crime|Drama|Romance|Thriller\n",
            "Action|Adventure|Crime|Drama|Thriller\n",
            "Action|Adventure|Crime|Drama|Thriller|War\n",
            "Action|Adventure|Crime|Horror|Thriller\n",
            "Action|Adventure|Crime|IMAX\n",
            "Action|Adventure|Crime|Sci-Fi|Thriller\n",
            "Action|Adventure|Crime|Thriller\n",
            "Action|Adventure|Drama\n",
            "Action|Adventure|Drama|Fantasy\n",
            "Action|Adventure|Drama|Fantasy|IMAX\n",
            "Action|Adventure|Drama|Fantasy|Mystery|IMAX\n",
            "Action|Adventure|Drama|Fantasy|Romance\n",
            "Action|Adventure|Drama|Fantasy|Romance|Sci-Fi|Thriller\n",
            "Action|Adventure|Drama|Fantasy|Thriller\n",
            "Action|Adventure|Drama|Mystery|Thriller\n",
            "Action|Adventure|Drama|Romance\n",
            "Action|Adventure|Drama|Romance|Thriller\n",
            "Action|Adventure|Drama|Romance|Thriller|Western\n",
            "Action|Adventure|Drama|Romance|War\n",
            "Action|Adventure|Drama|Sci-Fi\n",
            "Action|Adventure|Drama|Sci-Fi|Thriller\n",
            "Action|Adventure|Drama|Thriller\n",
            "Action|Adventure|Drama|Thriller|IMAX\n",
            "Action|Adventure|Drama|Thriller|Western\n",
            "Action|Adventure|Drama|War\n",
            "Action|Adventure|Drama|Western\n",
            "Action|Adventure|Fantasy\n",
            "Action|Adventure|Fantasy|Horror\n",
            "Action|Adventure|Fantasy|Horror|Thriller\n",
            "Action|Adventure|Fantasy|IMAX\n",
            "Action|Adventure|Fantasy|Mystery\n",
            "Action|Adventure|Fantasy|Romance\n",
            "Action|Adventure|Fantasy|Romance|IMAX\n",
            "Action|Adventure|Fantasy|Sci-Fi\n",
            "Action|Adventure|Fantasy|Sci-Fi|IMAX\n",
            "Action|Adventure|Fantasy|Thriller\n",
            "Action|Adventure|Fantasy|War\n",
            "Action|Adventure|Horror\n",
            "Action|Adventure|Horror|Mystery|Sci-Fi|Thriller\n",
            "Action|Adventure|Horror|Sci-Fi\n",
            "Action|Adventure|Horror|Sci-Fi|Thriller\n",
            "Action|Adventure|Mystery|Romance|Thriller\n",
            "Action|Adventure|Mystery|Sci-Fi\n",
            "Action|Adventure|Mystery|Thriller\n",
            "Action|Adventure|Romance\n",
            "Action|Adventure|Romance|Sci-Fi\n",
            "Action|Adventure|Romance|Thriller\n",
            "Action|Adventure|Sci-Fi\n",
            "Action|Adventure|Sci-Fi|IMAX\n",
            "Action|Adventure|Sci-Fi|Thriller\n",
            "Action|Adventure|Sci-Fi|Thriller|IMAX\n",
            "Action|Adventure|Sci-Fi|Thriller|War\n",
            "Action|Adventure|Sci-Fi|War|IMAX\n",
            "Action|Adventure|Thriller\n",
            "Action|Adventure|Thriller|IMAX\n",
            "Action|Adventure|Thriller|War\n",
            "Action|Adventure|War\n",
            "Action|Adventure|Western\n",
            "Action|Adventure|Western|IMAX\n",
            "Action|Animation\n",
            "Action|Animation|Children\n",
            "Action|Animation|Children|Comedy\n",
            "Action|Animation|Children|Comedy|IMAX\n",
            "Action|Animation|Children|Comedy|Musical\n",
            "Action|Animation|Children|Comedy|Sci-Fi|IMAX\n",
            "Action|Animation|Children|Crime\n",
            "Action|Animation|Children|Fantasy\n",
            "Action|Animation|Children|Sci-Fi\n",
            "Action|Animation|Comedy\n",
            "Action|Animation|Comedy|Crime|Drama|Romance|Thriller\n",
            "Action|Animation|Comedy|Fantasy\n",
            "Action|Animation|Comedy|Horror\n",
            "Action|Animation|Comedy|Horror|Thriller\n",
            "Action|Animation|Comedy|Romance|Sci-Fi\n",
            "Action|Animation|Comedy|Sci-Fi\n",
            "Action|Animation|Crime\n",
            "Action|Animation|Crime|Drama\n",
            "Action|Animation|Crime|Drama|Film-Noir|Mystery|Sci-Fi|Thriller\n",
            "Action|Animation|Crime|Sci-Fi\n",
            "Action|Animation|Crime|Sci-Fi|Thriller\n",
            "Action|Animation|Crime|Thriller\n",
            "Action|Animation|Drama\n",
            "Action|Animation|Drama|Fantasy|Sci-Fi\n",
            "Action|Animation|Drama|Sci-Fi\n",
            "Action|Animation|Drama|Sci-Fi|Thriller\n",
            "Action|Animation|Fantasy\n",
            "Action|Animation|Fantasy|IMAX\n",
            "Action|Animation|Fantasy|Sci-Fi\n",
            "Action|Animation|Film-Noir|Sci-Fi|Thriller\n",
            "Action|Animation|Horror\n",
            "Action|Animation|Mystery\n",
            "Action|Animation|Mystery|IMAX\n",
            "Action|Animation|Mystery|Sci-Fi\n",
            "Action|Animation|Sci-Fi\n",
            "Action|Animation|Sci-Fi|Thriller\n",
            "Action|Children\n",
            "Action|Children|Comedy\n",
            "Action|Children|Comedy|Fantasy|Sci-Fi\n",
            "Action|Children|Drama\n",
            "Action|Children|Fantasy\n",
            "Action|Children|Romance\n",
            "Action|Children|Sci-Fi|IMAX\n",
            "Action|Comedy\n",
            "Action|Comedy|Crime\n",
            "Action|Comedy|Crime|Drama\n",
            "Action|Comedy|Crime|Drama|Horror|Thriller\n",
            "Action|Comedy|Crime|Drama|Sci-Fi\n",
            "Action|Comedy|Crime|Drama|Thriller\n",
            "Action|Comedy|Crime|Fantasy\n",
            "Action|Comedy|Crime|Fantasy|Thriller\n",
            "Action|Comedy|Crime|Fantasy|Thriller|IMAX\n",
            "Action|Comedy|Crime|Horror\n",
            "Action|Comedy|Crime|Mystery\n",
            "Action|Comedy|Crime|Romance\n",
            "Action|Comedy|Crime|Thriller\n",
            "Action|Comedy|Crime|Western\n",
            "Action|Comedy|Documentary\n",
            "Action|Comedy|Drama\n",
            "Action|Comedy|Drama|Horror\n",
            "Action|Comedy|Drama|Horror|Thriller\n",
            "Action|Comedy|Drama|Romance\n",
            "Action|Comedy|Drama|Thriller\n",
            "Action|Comedy|Drama|War\n",
            "Action|Comedy|Fantasy\n",
            "Action|Comedy|Fantasy|Horror\n",
            "Action|Comedy|Fantasy|Horror|Thriller\n",
            "Action|Comedy|Fantasy|IMAX\n",
            "Action|Comedy|Fantasy|Musical|Romance\n",
            "Action|Comedy|Fantasy|Sci-Fi\n",
            "Action|Comedy|Fantasy|Thriller\n",
            "Action|Comedy|Horror\n",
            "Action|Comedy|Horror|Musical\n",
            "Action|Comedy|Horror|Sci-Fi\n",
            "Action|Comedy|Horror|Sci-Fi|Thriller|Western\n",
            "Action|Comedy|Horror|Thriller\n",
            "Action|Comedy|IMAX\n",
            "Action|Comedy|Musical\n",
            "Action|Comedy|Romance\n",
            "Action|Comedy|Romance|Thriller\n",
            "Action|Comedy|Romance|War\n",
            "Action|Comedy|Sci-Fi\n",
            "Action|Comedy|Sci-Fi|IMAX\n",
            "Action|Comedy|Sci-Fi|Thriller\n",
            "Action|Comedy|Sci-Fi|Western\n",
            "Action|Comedy|Thriller\n",
            "Action|Comedy|War\n",
            "Action|Comedy|Western\n",
            "Action|Crime\n",
            "Action|Crime|Drama\n",
            "Action|Crime|Drama|Horror\n",
            "Action|Crime|Drama|Horror|Thriller\n",
            "Action|Crime|Drama|IMAX\n",
            "Action|Crime|Drama|Mystery|Sci-Fi|Thriller\n",
            "Action|Crime|Drama|Mystery|Sci-Fi|Thriller|IMAX\n",
            "Action|Crime|Drama|Mystery|Thriller\n",
            "Action|Crime|Drama|Sci-Fi\n",
            "Action|Crime|Drama|Sci-Fi|Thriller\n",
            "Action|Crime|Drama|Thriller\n",
            "Action|Crime|Drama|Thriller|IMAX\n",
            "Action|Crime|Drama|Thriller|War\n",
            "Action|Crime|Drama|War\n",
            "Action|Crime|Drama|Western\n",
            "Action|Crime|Fantasy\n",
            "Action|Crime|Fantasy|Sci-Fi|Thriller\n",
            "Action|Crime|Fantasy|Thriller\n",
            "Action|Crime|Film-Noir\n",
            "Action|Crime|Film-Noir|Mystery|Thriller\n",
            "Action|Crime|Horror\n",
            "Action|Crime|Horror|Mystery|Thriller\n",
            "Action|Crime|Horror|Sci-Fi|Thriller\n",
            "Action|Crime|Horror|Thriller\n",
            "Action|Crime|IMAX\n",
            "Action|Crime|Mystery\n",
            "Action|Crime|Mystery|Romance|Thriller\n",
            "Action|Crime|Mystery|Sci-Fi|Thriller\n",
            "Action|Crime|Mystery|Thriller\n",
            "Action|Crime|Romance|Thriller\n",
            "Action|Crime|Sci-Fi\n",
            "Action|Crime|Sci-Fi|IMAX\n",
            "Action|Crime|Sci-Fi|Thriller\n",
            "Action|Crime|Thriller\n",
            "Action|Crime|Thriller|IMAX\n",
            "Action|Crime|Thriller|Western\n",
            "Action|Documentary|Drama|Thriller\n",
            "Action|Drama\n",
            "Action|Drama|Fantasy\n",
            "Action|Drama|Fantasy|Horror|Mystery|Sci-Fi|Thriller\n",
            "Action|Drama|Fantasy|Sci-Fi\n",
            "Action|Drama|Horror\n",
            "Action|Drama|Horror|IMAX\n",
            "Action|Drama|Horror|Sci-Fi|Thriller\n",
            "Action|Drama|Horror|Thriller\n",
            "Action|Drama|IMAX\n",
            "Action|Drama|Mystery\n",
            "Action|Drama|Mystery|Romance|Thriller\n",
            "Action|Drama|Mystery|Sci-Fi|Thriller\n",
            "Action|Drama|Mystery|Sci-Fi|Thriller|IMAX\n",
            "Action|Drama|Mystery|Thriller\n",
            "Action|Drama|Romance\n",
            "Action|Drama|Romance|Sci-Fi\n",
            "Action|Drama|Romance|Thriller\n",
            "Action|Drama|Romance|War\n",
            "Action|Drama|Romance|Western\n",
            "Action|Drama|Sci-Fi\n",
            "Action|Drama|Sci-Fi|IMAX\n",
            "Action|Drama|Sci-Fi|Thriller\n",
            "Action|Drama|Thriller\n",
            "Action|Drama|Thriller|IMAX\n",
            "Action|Drama|Thriller|War\n",
            "Action|Drama|Thriller|Western\n",
            "Action|Drama|War\n",
            "Action|Drama|War|IMAX\n",
            "Action|Drama|War|Western\n",
            "Action|Drama|Western\n",
            "Action|Fantasy\n",
            "Action|Fantasy|Horror\n",
            "Action|Fantasy|Horror|IMAX\n",
            "Action|Fantasy|Horror|Mystery|Sci-Fi|Thriller\n",
            "Action|Fantasy|Horror|Mystery|Thriller\n",
            "Action|Fantasy|Horror|Romance\n",
            "Action|Fantasy|Horror|Sci-Fi|Thriller\n",
            "Action|Fantasy|Horror|Thriller\n",
            "Action|Fantasy|Mystery\n",
            "Action|Fantasy|Sci-Fi\n",
            "Action|Fantasy|Sci-Fi|IMAX\n",
            "Action|Fantasy|Sci-Fi|Thriller\n",
            "Action|Fantasy|Sci-Fi|Thriller|War\n",
            "Action|Fantasy|Thriller\n",
            "Action|Fantasy|Thriller|IMAX\n",
            "Action|Fantasy|War|IMAX\n",
            "Action|Fantasy|Western\n",
            "Action|Horror\n",
            "Action|Horror|Mystery|Sci-Fi\n",
            "Action|Horror|Mystery|Thriller\n",
            "Action|Horror|Sci-Fi\n",
            "Action|Horror|Sci-Fi|IMAX\n",
            "Action|Horror|Sci-Fi|Thriller\n",
            "Action|Horror|Sci-Fi|Thriller|IMAX\n",
            "Action|Horror|Sci-Fi|War\n",
            "Action|Horror|Thriller\n",
            "Action|IMAX\n",
            "Action|Mystery\n",
            "Action|Mystery|Sci-Fi\n",
            "Action|Mystery|Sci-Fi|Thriller\n",
            "Action|Mystery|Thriller\n",
            "Action|Romance\n",
            "Action|Romance|Sci-Fi|Thriller\n",
            "Action|Romance|Thriller\n",
            "Action|Romance|War|Western\n",
            "Action|Romance|Western\n",
            "Action|Sci-Fi\n",
            "Action|Sci-Fi|IMAX\n",
            "Action|Sci-Fi|Thriller\n",
            "Action|Sci-Fi|Thriller|IMAX\n",
            "Action|Sci-Fi|Thriller|Western\n",
            "Action|Sci-Fi|Thriller|Western|IMAX\n",
            "Action|Sci-Fi|War\n",
            "Action|Thriller\n",
            "Action|Thriller|War\n",
            "Action|Thriller|Western\n",
            "Action|War\n",
            "Action|Western\n",
            "Adventure\n",
            "Adventure|Animation\n",
            "Adventure|Animation|Children\n",
            "Adventure|Animation|Children|Comedy\n",
            "Adventure|Animation|Children|Comedy|Crime\n",
            "Adventure|Animation|Children|Comedy|Crime|Fantasy|Mystery\n",
            "Adventure|Animation|Children|Comedy|Drama|Fantasy\n",
            "Adventure|Animation|Children|Comedy|Drama|Musical|Romance\n",
            "Adventure|Animation|Children|Comedy|Drama|Romance\n",
            "Adventure|Animation|Children|Comedy|Fantasy\n",
            "Adventure|Animation|Children|Comedy|Fantasy|IMAX\n",
            "Adventure|Animation|Children|Comedy|Fantasy|Musical|Romance\n",
            "Adventure|Animation|Children|Comedy|Fantasy|Romance\n",
            "Adventure|Animation|Children|Comedy|Fantasy|Sci-Fi\n",
            "Adventure|Animation|Children|Comedy|Fantasy|Sci-Fi|IMAX\n",
            "Adventure|Animation|Children|Comedy|Fantasy|War\n",
            "Adventure|Animation|Children|Comedy|IMAX\n",
            "Adventure|Animation|Children|Comedy|Musical\n",
            "Adventure|Animation|Children|Comedy|Musical|Romance\n",
            "Adventure|Animation|Children|Comedy|Sci-Fi\n",
            "Adventure|Animation|Children|Crime|Drama\n",
            "Adventure|Animation|Children|Drama\n",
            "Adventure|Animation|Children|Drama|Fantasy\n",
            "Adventure|Animation|Children|Drama|Musical\n",
            "Adventure|Animation|Children|Drama|Musical|IMAX\n",
            "Adventure|Animation|Children|Drama|Sci-Fi\n",
            "Adventure|Animation|Children|Fantasy\n",
            "Adventure|Animation|Children|Fantasy|IMAX\n",
            "Adventure|Animation|Children|Fantasy|Musical\n",
            "Adventure|Animation|Children|Fantasy|Musical|Romance\n",
            "Adventure|Animation|Children|Fantasy|Sci-Fi\n",
            "Adventure|Animation|Children|Musical\n",
            "Adventure|Animation|Children|Musical|Romance\n",
            "Adventure|Animation|Children|Musical|Western\n",
            "Adventure|Animation|Children|Romance|Sci-Fi\n",
            "Adventure|Animation|Children|Sci-Fi\n",
            "Adventure|Animation|Children|Sci-Fi|IMAX\n",
            "Adventure|Animation|Children|Western\n",
            "Adventure|Animation|Comedy\n",
            "Adventure|Animation|Comedy|Crime\n",
            "Adventure|Animation|Comedy|Fantasy\n",
            "Adventure|Animation|Comedy|Fantasy|IMAX\n",
            "Adventure|Animation|Comedy|Fantasy|Musical\n",
            "Adventure|Animation|Comedy|Fantasy|Musical|Romance\n",
            "Adventure|Animation|Comedy|Fantasy|Romance\n",
            "Adventure|Animation|Comedy|Fantasy|Romance|Sci-Fi\n",
            "Adventure|Animation|Comedy|Sci-Fi\n",
            "Adventure|Animation|Drama\n",
            "Adventure|Animation|Drama|Fantasy|Sci-Fi\n",
            "Adventure|Animation|Drama|Horror\n",
            "Adventure|Animation|Fantasy\n",
            "Adventure|Animation|Fantasy|Horror|Sci-Fi\n",
            "Adventure|Animation|Fantasy|IMAX\n",
            "Adventure|Animation|Fantasy|Romance\n",
            "Adventure|Animation|Fantasy|Sci-Fi\n",
            "Adventure|Animation|Romance\n",
            "Adventure|Animation|Sci-Fi\n",
            "Adventure|Children\n",
            "Adventure|Children|Comedy\n",
            "Adventure|Children|Comedy|Drama\n",
            "Adventure|Children|Comedy|Drama|Fantasy|Sci-Fi\n",
            "Adventure|Children|Comedy|Fantasy\n",
            "Adventure|Children|Comedy|Fantasy|IMAX\n",
            "Adventure|Children|Comedy|Fantasy|Musical\n",
            "Adventure|Children|Comedy|Fantasy|Mystery\n",
            "Adventure|Children|Comedy|Fantasy|Romance\n",
            "Adventure|Children|Comedy|Fantasy|Sci-Fi\n",
            "Adventure|Children|Comedy|Musical\n",
            "Adventure|Children|Comedy|Mystery\n",
            "Adventure|Children|Comedy|Romance|Sci-Fi\n",
            "Adventure|Children|Comedy|Sci-Fi\n",
            "Adventure|Children|Drama\n",
            "Adventure|Children|Drama|Fantasy\n",
            "Adventure|Children|Drama|Fantasy|IMAX\n",
            "Adventure|Children|Drama|Sci-Fi\n",
            "Adventure|Children|Fantasy\n",
            "Adventure|Children|Fantasy|Musical\n",
            "Adventure|Children|Fantasy|Sci-Fi\n",
            "Adventure|Children|Fantasy|Sci-Fi|Thriller\n",
            "Adventure|Children|Fantasy|Western\n",
            "Adventure|Children|Musical\n",
            "Adventure|Children|Romance\n",
            "Adventure|Children|Sci-Fi\n",
            "Adventure|Comedy\n",
            "Adventure|Comedy|Crime\n",
            "Adventure|Comedy|Crime|Drama|Mystery|Thriller\n",
            "Adventure|Comedy|Crime|Drama|Romance\n",
            "Adventure|Comedy|Crime|Mystery\n",
            "Adventure|Comedy|Crime|Romance\n",
            "Adventure|Comedy|Crime|Thriller\n",
            "Adventure|Comedy|Documentary\n",
            "Adventure|Comedy|Drama\n",
            "Adventure|Comedy|Drama|Fantasy\n",
            "Adventure|Comedy|Drama|Fantasy|Mystery|Sci-Fi|Thriller\n",
            "Adventure|Comedy|Drama|Fantasy|Romance\n",
            "Adventure|Comedy|Drama|Romance\n",
            "Adventure|Comedy|Fantasy\n",
            "Adventure|Comedy|Fantasy|Horror\n",
            "Adventure|Comedy|Fantasy|Musical\n",
            "Adventure|Comedy|Fantasy|Romance\n",
            "Adventure|Comedy|Fantasy|Romance|IMAX\n",
            "Adventure|Comedy|Fantasy|Sci-Fi\n",
            "Adventure|Comedy|Horror\n",
            "Adventure|Comedy|Horror|Romance\n",
            "Adventure|Comedy|Musical\n",
            "Adventure|Comedy|Musical|Sci-Fi\n",
            "Adventure|Comedy|Mystery\n",
            "Adventure|Comedy|Mystery|Romance\n",
            "Adventure|Comedy|Romance\n",
            "Adventure|Comedy|Romance|War\n",
            "Adventure|Comedy|Sci-Fi\n",
            "Adventure|Comedy|Sci-Fi|Thriller\n",
            "Adventure|Comedy|Sci-Fi|Western\n",
            "Adventure|Comedy|Thriller\n",
            "Adventure|Comedy|War\n",
            "Adventure|Comedy|Western\n",
            "Adventure|Crime|Drama\n",
            "Adventure|Crime|Drama|Romance\n",
            "Adventure|Crime|Drama|Thriller\n",
            "Adventure|Crime|Thriller\n",
            "Adventure|Documentary\n",
            "Adventure|Documentary|IMAX\n",
            "Adventure|Documentary|Western\n",
            "Adventure|Drama\n",
            "Adventure|Drama|Fantasy\n",
            "Adventure|Drama|Fantasy|Horror|Sci-Fi\n",
            "Adventure|Drama|Fantasy|IMAX\n",
            "Adventure|Drama|Fantasy|Mystery|Sci-Fi\n",
            "Adventure|Drama|Fantasy|Romance\n",
            "Adventure|Drama|Fantasy|Romance|IMAX\n",
            "Adventure|Drama|Fantasy|Sci-Fi\n",
            "Adventure|Drama|Horror|Mystery|Thriller\n",
            "Adventure|Drama|Horror|Sci-Fi|Thriller\n",
            "Adventure|Drama|Horror|Thriller\n",
            "Adventure|Drama|IMAX\n",
            "Adventure|Drama|Mystery\n",
            "Adventure|Drama|Mystery|Thriller\n",
            "Adventure|Drama|Romance\n",
            "Adventure|Drama|Romance|Sci-Fi\n",
            "Adventure|Drama|Romance|Thriller|War\n",
            "Adventure|Drama|Romance|War\n",
            "Adventure|Drama|Sci-Fi\n",
            "Adventure|Drama|Sci-Fi|Thriller\n",
            "Adventure|Drama|Thriller\n",
            "Adventure|Drama|Thriller|IMAX\n",
            "Adventure|Drama|War\n",
            "Adventure|Drama|War|Western\n",
            "Adventure|Drama|Western\n",
            "Adventure|Fantasy\n",
            "Adventure|Fantasy|IMAX\n",
            "Adventure|Fantasy|Musical\n",
            "Adventure|Fantasy|Musical|Romance\n",
            "Adventure|Fantasy|Mystery|Romance|IMAX\n",
            "Adventure|Fantasy|Romance\n",
            "Adventure|Fantasy|Romance|Sci-Fi|Thriller\n",
            "Adventure|Fantasy|Sci-Fi\n",
            "Adventure|Fantasy|Thriller\n",
            "Adventure|Fantasy|Thriller|IMAX\n",
            "Adventure|Film-Noir|Sci-Fi|Thriller\n",
            "Adventure|Horror|Sci-Fi\n",
            "Adventure|Mystery|Sci-Fi|Thriller\n",
            "Adventure|Mystery|Thriller\n",
            "Adventure|Romance\n",
            "Adventure|Romance|Sci-Fi\n",
            "Adventure|Romance|Sci-Fi|IMAX\n",
            "Adventure|Romance|Thriller\n",
            "Adventure|Sci-Fi\n",
            "Adventure|Sci-Fi|Thriller\n",
            "Adventure|Thriller\n",
            "Adventure|Thriller|Western\n",
            "Adventure|War\n",
            "Adventure|War|Western\n",
            "Adventure|Western\n",
            "Animation\n",
            "Animation|Children\n",
            "Animation|Children|Comedy\n",
            "Animation|Children|Comedy|Crime\n",
            "Animation|Children|Comedy|Drama\n",
            "Animation|Children|Comedy|Drama|Fantasy\n",
            "Animation|Children|Comedy|Drama|Romance\n",
            "Animation|Children|Comedy|Fantasy\n",
            "Animation|Children|Comedy|Fantasy|Musical\n",
            "Animation|Children|Comedy|Fantasy|Musical|Romance\n",
            "Animation|Children|Comedy|Fantasy|Musical|Romance|IMAX\n",
            "Animation|Children|Comedy|Horror\n",
            "Animation|Children|Comedy|IMAX\n",
            "Animation|Children|Comedy|Musical\n",
            "Animation|Children|Comedy|Musical|Romance\n",
            "Animation|Children|Comedy|Musical|Sci-Fi\n",
            "Animation|Children|Comedy|Romance\n",
            "Animation|Children|Drama\n",
            "Animation|Children|Drama|Fantasy\n",
            "Animation|Children|Drama|Fantasy|IMAX\n",
            "Animation|Children|Drama|Fantasy|Musical\n",
            "Animation|Children|Drama|Musical\n",
            "Animation|Children|Drama|Musical|Romance\n",
            "Animation|Children|Fantasy\n",
            "Animation|Children|Fantasy|IMAX\n",
            "Animation|Children|Fantasy|Musical\n",
            "Animation|Children|Fantasy|Musical|Romance\n",
            "Animation|Children|Fantasy|Musical|Romance|IMAX\n",
            "Animation|Children|Fantasy|Mystery\n",
            "Animation|Children|Fantasy|War\n",
            "Animation|Children|Musical\n",
            "Animation|Children|Musical|IMAX\n",
            "Animation|Children|Mystery\n",
            "Animation|Comedy\n",
            "Animation|Comedy|Drama\n",
            "Animation|Comedy|Drama|Fantasy\n",
            "Animation|Comedy|Drama|Fantasy|Sci-Fi\n",
            "Animation|Comedy|Drama|Romance\n",
            "Animation|Comedy|Drama|Romance|Sci-Fi\n",
            "Animation|Comedy|Fantasy\n",
            "Animation|Comedy|Fantasy|Musical\n",
            "Animation|Comedy|Fantasy|Musical|Romance\n",
            "Animation|Comedy|Fantasy|Sci-Fi\n",
            "Animation|Comedy|Horror|IMAX\n",
            "Animation|Comedy|Horror|Musical\n",
            "Animation|Comedy|Musical\n",
            "Animation|Comedy|Romance\n",
            "Animation|Comedy|Sci-Fi\n",
            "Animation|Comedy|War\n",
            "Animation|Crime|Drama\n",
            "Animation|Documentary\n",
            "Animation|Documentary|Drama|War\n",
            "Animation|Drama\n",
            "Animation|Drama|Fantasy\n",
            "Animation|Drama|Fantasy|Mystery\n",
            "Animation|Drama|Fantasy|Romance\n",
            "Animation|Drama|Mystery|Sci-Fi|Thriller\n",
            "Animation|Drama|Romance\n",
            "Animation|Drama|Romance|Sci-Fi\n",
            "Animation|Drama|Sci-Fi\n",
            "Animation|Drama|Sci-Fi|IMAX\n",
            "Animation|Drama|Sci-Fi|War\n",
            "Animation|Drama|War\n",
            "Animation|Fantasy\n",
            "Animation|Fantasy|Horror\n",
            "Animation|Fantasy|Horror|Mystery\n",
            "Animation|Fantasy|Horror|Sci-Fi\n",
            "Animation|Fantasy|Musical|IMAX\n",
            "Animation|Fantasy|Mystery\n",
            "Animation|Fantasy|Sci-Fi|Thriller\n",
            "Animation|Fantasy|Sci-Fi|War\n",
            "Animation|Fantasy|Thriller\n",
            "Animation|Horror|Mystery\n",
            "Animation|Horror|Mystery|Thriller\n",
            "Animation|Musical\n",
            "Animation|Mystery|Sci-Fi\n",
            "Animation|Romance\n",
            "Animation|Sci-Fi\n",
            "Animation|Sci-Fi|IMAX\n",
            "Children\n",
            "Children|Comedy\n",
            "Children|Comedy|Crime|Drama|Fantasy\n",
            "Children|Comedy|Crime|Musical\n",
            "Children|Comedy|Drama\n",
            "Children|Comedy|Drama|Fantasy\n",
            "Children|Comedy|Drama|Musical|Romance\n",
            "Children|Comedy|Drama|Mystery\n",
            "Children|Comedy|Fantasy\n",
            "Children|Comedy|Fantasy|Horror\n",
            "Children|Comedy|Fantasy|Musical\n",
            "Children|Comedy|Fantasy|Romance\n",
            "Children|Comedy|Fantasy|Sci-Fi\n",
            "Children|Comedy|Musical\n",
            "Children|Comedy|Musical|Romance\n",
            "Children|Comedy|Mystery\n",
            "Children|Comedy|Romance\n",
            "Children|Comedy|Romance|Sci-Fi\n",
            "Children|Comedy|Sci-Fi\n",
            "Children|Comedy|Western\n",
            "Children|Crime|Drama\n",
            "Children|Documentary\n",
            "Children|Drama\n",
            "Children|Drama|Fantasy\n",
            "Children|Drama|Fantasy|Mystery\n",
            "Children|Drama|Fantasy|Mystery|Thriller\n",
            "Children|Drama|Fantasy|Romance\n",
            "Children|Drama|Musical\n",
            "Children|Drama|Mystery\n",
            "Children|Drama|Romance\n",
            "Children|Drama|Sci-Fi\n",
            "Children|Drama|War\n",
            "Children|Fantasy\n",
            "Children|Fantasy|Musical\n",
            "Children|Fantasy|Musical|Romance\n",
            "Children|Horror|Mystery|Thriller\n",
            "Children|Horror|Sci-Fi\n",
            "Children|Musical\n",
            "Children|Musical|Mystery\n",
            "Children|Sci-Fi\n",
            "Comedy\n",
            "Comedy|Crime\n",
            "Comedy|Crime|Drama\n",
            "Comedy|Crime|Drama|Fantasy\n",
            "Comedy|Crime|Drama|Horror\n",
            "Comedy|Crime|Drama|Horror|Mystery\n",
            "Comedy|Crime|Drama|Musical\n",
            "Comedy|Crime|Drama|Musical|Mystery|Romance\n",
            "Comedy|Crime|Drama|Mystery\n",
            "Comedy|Crime|Drama|Mystery|Romance\n",
            "Comedy|Crime|Drama|Mystery|Thriller\n",
            "Comedy|Crime|Drama|Romance\n",
            "Comedy|Crime|Drama|Romance|Thriller\n",
            "Comedy|Crime|Drama|Sci-Fi|Thriller\n",
            "Comedy|Crime|Drama|Thriller\n",
            "Comedy|Crime|Drama|War\n",
            "Comedy|Crime|Drama|Western\n",
            "Comedy|Crime|Fantasy\n",
            "Comedy|Crime|Horror\n",
            "Comedy|Crime|Horror|Mystery|Thriller\n",
            "Comedy|Crime|Horror|Thriller\n",
            "Comedy|Crime|Musical\n",
            "Comedy|Crime|Musical|Mystery\n",
            "Comedy|Crime|Mystery\n",
            "Comedy|Crime|Mystery|Romance\n",
            "Comedy|Crime|Mystery|Romance|Thriller\n",
            "Comedy|Crime|Mystery|Thriller\n",
            "Comedy|Crime|Romance\n",
            "Comedy|Crime|Romance|Thriller\n",
            "Comedy|Crime|Sci-Fi\n",
            "Comedy|Crime|Thriller\n",
            "Comedy|Documentary\n",
            "Comedy|Documentary|Drama\n",
            "Comedy|Documentary|Drama|Romance\n",
            "Comedy|Documentary|Musical\n",
            "Comedy|Documentary|Romance\n",
            "Comedy|Drama\n",
            "Comedy|Drama|Fantasy\n",
            "Comedy|Drama|Fantasy|Mystery\n",
            "Comedy|Drama|Fantasy|Mystery|Romance\n",
            "Comedy|Drama|Fantasy|Romance\n",
            "Comedy|Drama|Fantasy|Romance|Thriller\n",
            "Comedy|Drama|Fantasy|Sci-Fi\n",
            "Comedy|Drama|Film-Noir\n",
            "Comedy|Drama|Horror\n",
            "Comedy|Drama|Horror|Sci-Fi|Thriller\n",
            "Comedy|Drama|Musical\n",
            "Comedy|Drama|Musical|IMAX\n",
            "Comedy|Drama|Musical|Romance\n",
            "Comedy|Drama|Musical|Sci-Fi\n",
            "Comedy|Drama|Mystery\n",
            "Comedy|Drama|Mystery|Romance\n",
            "Comedy|Drama|Mystery|Thriller\n",
            "Comedy|Drama|Romance\n",
            "Comedy|Drama|Romance|Sci-Fi\n",
            "Comedy|Drama|Romance|Thriller\n",
            "Comedy|Drama|Romance|War\n",
            "Comedy|Drama|Romance|Western\n",
            "Comedy|Drama|Sci-Fi\n",
            "Comedy|Drama|Sci-Fi|Thriller\n",
            "Comedy|Drama|Sci-Fi|War\n",
            "Comedy|Drama|Thriller\n",
            "Comedy|Drama|War\n",
            "Comedy|Fantasy\n",
            "Comedy|Fantasy|Horror\n",
            "Comedy|Fantasy|Horror|Musical|Thriller\n",
            "Comedy|Fantasy|Horror|Sci-Fi\n",
            "Comedy|Fantasy|Horror|Thriller\n",
            "Comedy|Fantasy|Musical\n",
            "Comedy|Fantasy|Mystery\n",
            "Comedy|Fantasy|Mystery|Sci-Fi\n",
            "Comedy|Fantasy|Romance\n",
            "Comedy|Fantasy|Romance|Sci-Fi\n",
            "Comedy|Fantasy|Sci-Fi\n",
            "Comedy|Fantasy|Thriller\n",
            "Comedy|Horror\n",
            "Comedy|Horror|IMAX\n",
            "Comedy|Horror|Musical\n",
            "Comedy|Horror|Musical|Sci-Fi\n",
            "Comedy|Horror|Mystery\n",
            "Comedy|Horror|Mystery|Thriller\n",
            "Comedy|Horror|Romance\n",
            "Comedy|Horror|Romance|Thriller\n",
            "Comedy|Horror|Sci-Fi\n",
            "Comedy|Horror|Sci-Fi|Thriller\n",
            "Comedy|Horror|Thriller\n",
            "Comedy|Musical\n",
            "Comedy|Musical|Romance\n",
            "Comedy|Musical|Romance|Western\n",
            "Comedy|Musical|Sci-Fi\n",
            "Comedy|Musical|Sci-Fi|Western\n",
            "Comedy|Musical|War\n",
            "Comedy|Musical|Western\n",
            "Comedy|Mystery\n",
            "Comedy|Mystery|Romance\n",
            "Comedy|Mystery|Romance|Thriller\n",
            "Comedy|Mystery|Sci-Fi\n",
            "Comedy|Mystery|Thriller\n",
            "Comedy|Romance\n",
            "Comedy|Romance|Sci-Fi\n",
            "Comedy|Romance|Sci-Fi|Thriller\n",
            "Comedy|Romance|Thriller\n",
            "Comedy|Romance|Western\n",
            "Comedy|Sci-Fi\n",
            "Comedy|Sci-Fi|Thriller\n",
            "Comedy|Sci-Fi|War\n",
            "Comedy|Thriller\n",
            "Comedy|War\n",
            "Comedy|War|Western\n",
            "Comedy|Western\n",
            "Crime\n",
            "Crime|Documentary\n",
            "Crime|Documentary|War\n",
            "Crime|Drama\n",
            "Crime|Drama|Fantasy\n",
            "Crime|Drama|Fantasy|Film-Noir|Mystery|Romance\n",
            "Crime|Drama|Fantasy|Horror|Thriller\n",
            "Crime|Drama|Fantasy|Mystery|Thriller\n",
            "Crime|Drama|Fantasy|Thriller\n",
            "Crime|Drama|Film-Noir\n",
            "Crime|Drama|Film-Noir|Mystery\n",
            "Crime|Drama|Film-Noir|Mystery|Thriller\n",
            "Crime|Drama|Film-Noir|Romance\n",
            "Crime|Drama|Film-Noir|Romance|Thriller\n",
            "Crime|Drama|Film-Noir|Thriller\n",
            "Crime|Drama|Horror\n",
            "Crime|Drama|Horror|Mystery\n",
            "Crime|Drama|Horror|Mystery|Thriller\n",
            "Crime|Drama|Horror|Thriller\n",
            "Crime|Drama|Musical\n",
            "Crime|Drama|Musical|Thriller\n",
            "Crime|Drama|Mystery\n",
            "Crime|Drama|Mystery|Romance|Thriller\n",
            "Crime|Drama|Mystery|Thriller\n",
            "Crime|Drama|Mystery|Thriller|War\n",
            "Crime|Drama|Romance\n",
            "Crime|Drama|Romance|Thriller\n",
            "Crime|Drama|Romance|War\n",
            "Crime|Drama|Sci-Fi|Thriller\n",
            "Crime|Drama|Thriller\n",
            "Crime|Drama|Thriller|War\n",
            "Crime|Drama|War\n",
            "Crime|Drama|Western\n",
            "Crime|Fantasy|Horror\n",
            "Crime|Film-Noir\n",
            "Crime|Film-Noir|Mystery\n",
            "Crime|Film-Noir|Mystery|Thriller\n",
            "Crime|Film-Noir|Thriller\n",
            "Crime|Horror\n",
            "Crime|Horror|Mystery\n",
            "Crime|Horror|Mystery|Thriller\n",
            "Crime|Horror|Sci-Fi\n",
            "Crime|Horror|Thriller\n",
            "Crime|Musical\n",
            "Crime|Mystery\n",
            "Crime|Mystery|Romance|Thriller\n",
            "Crime|Mystery|Thriller\n",
            "Crime|Romance\n",
            "Crime|Romance|Thriller\n",
            "Crime|Sci-Fi\n",
            "Crime|Sci-Fi|Thriller\n",
            "Crime|Thriller\n",
            "Crime|Thriller|War\n",
            "Crime|Thriller|Western\n",
            "Crime|Western\n",
            "Documentary\n",
            "Documentary|Drama\n",
            "Documentary|Drama|Musical\n",
            "Documentary|Drama|Mystery\n",
            "Documentary|Drama|Thriller\n",
            "Documentary|Drama|War\n",
            "Documentary|Fantasy\n",
            "Documentary|Horror\n",
            "Documentary|IMAX\n",
            "Documentary|Musical\n",
            "Documentary|Musical|IMAX\n",
            "Documentary|Mystery\n",
            "Documentary|War\n",
            "Drama\n",
            "Drama|Fantasy\n",
            "Drama|Fantasy|Horror\n",
            "Drama|Fantasy|Horror|Mystery|Sci-Fi|Thriller\n",
            "Drama|Fantasy|Horror|Mystery|Thriller\n",
            "Drama|Fantasy|Horror|Romance\n",
            "Drama|Fantasy|Horror|Romance|Thriller\n",
            "Drama|Fantasy|Horror|Thriller\n",
            "Drama|Fantasy|Horror|Thriller|War\n",
            "Drama|Fantasy|Musical\n",
            "Drama|Fantasy|Musical|Mystery|Sci-Fi\n",
            "Drama|Fantasy|Musical|Romance\n",
            "Drama|Fantasy|Mystery\n",
            "Drama|Fantasy|Mystery|Romance\n",
            "Drama|Fantasy|Mystery|Romance|Thriller\n",
            "Drama|Fantasy|Mystery|Sci-Fi\n",
            "Drama|Fantasy|Mystery|Thriller\n",
            "Drama|Fantasy|Romance\n",
            "Drama|Fantasy|Romance|Sci-Fi\n",
            "Drama|Fantasy|Romance|Thriller\n",
            "Drama|Fantasy|Sci-Fi\n",
            "Drama|Fantasy|Sci-Fi|Thriller\n",
            "Drama|Fantasy|Thriller\n",
            "Drama|Fantasy|Thriller|War\n",
            "Drama|Film-Noir\n",
            "Drama|Film-Noir|Mystery\n",
            "Drama|Film-Noir|Mystery|Romance\n",
            "Drama|Film-Noir|Mystery|Thriller\n",
            "Drama|Film-Noir|Romance\n",
            "Drama|Film-Noir|Thriller\n",
            "Drama|Horror\n",
            "Drama|Horror|Musical|Thriller\n",
            "Drama|Horror|Mystery\n",
            "Drama|Horror|Mystery|Romance|Thriller\n",
            "Drama|Horror|Mystery|Sci-Fi|Thriller\n",
            "Drama|Horror|Mystery|Thriller\n",
            "Drama|Horror|Romance\n",
            "Drama|Horror|Romance|Thriller\n",
            "Drama|Horror|Sci-Fi\n",
            "Drama|Horror|Sci-Fi|Thriller\n",
            "Drama|Horror|Thriller\n",
            "Drama|Horror|War\n",
            "Drama|Musical\n",
            "Drama|Musical|Mystery\n",
            "Drama|Musical|Romance\n",
            "Drama|Musical|Romance|IMAX\n",
            "Drama|Mystery\n",
            "Drama|Mystery|Romance\n",
            "Drama|Mystery|Romance|Sci-Fi|Thriller\n",
            "Drama|Mystery|Romance|Thriller\n",
            "Drama|Mystery|Romance|War\n",
            "Drama|Mystery|Sci-Fi\n",
            "Drama|Mystery|Sci-Fi|Thriller\n",
            "Drama|Mystery|Thriller\n",
            "Drama|Mystery|War\n",
            "Drama|Mystery|Western\n",
            "Drama|Romance\n",
            "Drama|Romance|Sci-Fi\n",
            "Drama|Romance|Sci-Fi|Thriller\n",
            "Drama|Romance|Thriller\n",
            "Drama|Romance|Thriller|War\n",
            "Drama|Romance|War\n",
            "Drama|Romance|War|Western\n",
            "Drama|Romance|Western\n",
            "Drama|Sci-Fi\n",
            "Drama|Sci-Fi|IMAX\n",
            "Drama|Sci-Fi|Thriller\n",
            "Drama|Sci-Fi|Thriller|IMAX\n",
            "Drama|Sci-Fi|War\n",
            "Drama|Thriller\n",
            "Drama|Thriller|War\n",
            "Drama|Thriller|Western\n",
            "Drama|War\n",
            "Drama|War|Western\n",
            "Drama|Western\n",
            "Fantasy\n",
            "Fantasy|Horror\n",
            "Fantasy|Horror|Mystery\n",
            "Fantasy|Horror|Mystery|Romance\n",
            "Fantasy|Horror|Mystery|Thriller\n",
            "Fantasy|Horror|Romance|Thriller\n",
            "Fantasy|Horror|Sci-Fi|Thriller\n",
            "Fantasy|Horror|Sci-Fi|Western\n",
            "Fantasy|Horror|Thriller\n",
            "Fantasy|Musical|Romance\n",
            "Fantasy|Mystery|Romance|Thriller\n",
            "Fantasy|Mystery|Thriller\n",
            "Fantasy|Mystery|Western\n",
            "Fantasy|Romance\n",
            "Fantasy|Romance|Thriller|IMAX\n",
            "Fantasy|Sci-Fi\n",
            "Fantasy|Western\n",
            "Film-Noir\n",
            "Film-Noir|Horror|Mystery|Thriller\n",
            "Film-Noir|Mystery\n",
            "Film-Noir|Mystery|Thriller\n",
            "Film-Noir|Romance|Thriller\n",
            "Film-Noir|Thriller\n",
            "Horror\n",
            "Horror|IMAX\n",
            "Horror|Mystery\n",
            "Horror|Mystery|Sci-Fi\n",
            "Horror|Mystery|Sci-Fi|Thriller\n",
            "Horror|Mystery|Thriller\n",
            "Horror|Romance\n",
            "Horror|Romance|Sci-Fi\n",
            "Horror|Romance|Thriller\n",
            "Horror|Sci-Fi\n",
            "Horror|Sci-Fi|Thriller\n",
            "Horror|Sci-Fi|Western\n",
            "Horror|Thriller\n",
            "Horror|Thriller|IMAX\n",
            "Horror|Thriller|Western\n",
            "Horror|Western\n",
            "Musical\n",
            "Musical|Romance\n",
            "Musical|Romance|War\n",
            "Musical|Romance|Western\n",
            "Musical|Western\n",
            "Mystery\n",
            "Mystery|Romance|Sci-Fi|Thriller\n",
            "Mystery|Romance|Thriller\n",
            "Mystery|Sci-Fi\n",
            "Mystery|Sci-Fi|Thriller\n",
            "Mystery|Sci-Fi|Thriller|IMAX\n",
            "Mystery|Thriller\n",
            "Romance\n",
            "Romance|Sci-Fi\n",
            "Romance|Sci-Fi|Thriller\n",
            "Romance|Thriller\n",
            "Romance|War\n",
            "Romance|Western\n",
            "Sci-Fi\n",
            "Sci-Fi|IMAX\n",
            "Sci-Fi|Thriller\n",
            "Sci-Fi|Thriller|IMAX\n",
            "Thriller\n",
            "War\n"
          ],
          "name": "stdout"
        }
      ]
    },
    {
      "cell_type": "markdown",
      "metadata": {
        "id": "GnA9o5uVSy3P",
        "colab_type": "text"
      },
      "source": [
        "Quantidade de filmes por genero"
      ]
    },
    {
      "cell_type": "code",
      "metadata": {
        "id": "BQBLfpObN2z7",
        "colab_type": "code",
        "outputId": "a9b6520d-6394-4c71-ad63-235a60d28f28",
        "colab": {
          "base_uri": "https://localhost:8080/",
          "height": 221
        }
      },
      "source": [
        "Qtd_genero = new_filmes.groupby(\"generos\")[\"generos\"].count()\n",
        "Qtd_genero.head(10)"
      ],
      "execution_count": 0,
      "outputs": [
        {
          "output_type": "execute_result",
          "data": {
            "text/plain": [
              "generos\n",
              "(no genres listed)                                    34\n",
              "Action                                                60\n",
              "Action|Adventure                                      32\n",
              "Action|Adventure|Animation                            18\n",
              "Action|Adventure|Animation|Children                    6\n",
              "Action|Adventure|Animation|Children|Comedy             5\n",
              "Action|Adventure|Animation|Children|Comedy|Fantasy     3\n",
              "Action|Adventure|Animation|Children|Comedy|IMAX        2\n",
              "Action|Adventure|Animation|Children|Comedy|Romance     1\n",
              "Action|Adventure|Animation|Children|Comedy|Sci-Fi      3\n",
              "Name: generos, dtype: int64"
            ]
          },
          "metadata": {
            "tags": []
          },
          "execution_count": 195
        }
      ]
    }
  ]
}